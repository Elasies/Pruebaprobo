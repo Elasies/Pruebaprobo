{
  "cells": [
    {
      "cell_type": "markdown",
      "metadata": {
        "id": "Fo8RnaiRug7e"
      },
      "source": [
        "## **Modelo CNN Simple - ResNet18 + Dropout + Soft Attention Espacial**"
      ]
    },
    {
      "cell_type": "code",
      "execution_count": null,
      "metadata": {
        "id": "kTmTkZCHywa2"
      },
      "outputs": [],
      "source": [
        "import io\n",
        "import torch\n",
        "import os\n",
        "import subprocess\n",
        "import logging\n",
        "import shutil\n",
        "import pandas as pd\n",
        "import seaborn as sns\n",
        "import torch.optim as optim\n",
        "import torch.nn as nn\n",
        "import torchvision.models as models\n",
        "import matplotlib.pyplot as plt\n",
        "import numpy as np\n",
        "from tqdm import tqdm\n",
        "from datetime import datetime\n",
        "from torchvision import transforms\n",
        "from torch.utils.data import Subset\n",
        "from torch.utils.data import Dataset, DataLoader\n",
        "from torch.utils.tensorboard import SummaryWriter\n",
        "from sklearn.model_selection import train_test_split\n",
        "from sklearn.metrics import confusion_matrix\n",
        "from torchsummary import summary\n",
        "from PIL import Image\n",
        "from tensorboard.backend.event_processing import event_accumulator\n",
        "from sklearn.utils import resample\n",
        "from sklearn.metrics import classification_report\n",
        "from collections import Counter\n",
        "%matplotlib inline"
      ]
    },
    {
      "cell_type": "markdown",
      "metadata": {
        "id": "BgEs6y13o4fB"
      },
      "source": [
        "## Definición de transformación de los datos de entrada"
      ]
    },
    {
      "cell_type": "code",
      "execution_count": null,
      "metadata": {
        "id": "y-4fhcf_yxMv"
      },
      "outputs": [],
      "source": [
        "class MinMaxNormalize(object):\n",
        "    \"\"\"Transformación para normalizar imágenes con Min-Max a rango [0, 1].\"\"\"\n",
        "    def __call__(self, image):\n",
        "        image = transforms.ToTensor()(image)  # Convertir a tensor primero\n",
        "        # Normalización Min-Max: (pixel - min) / (max - min)\n",
        "        return (image - image.min()) / (image.max() - image.min())\n",
        "\n",
        "train_transform = transforms.Compose([\n",
        "    transforms.RandomResizedCrop(128, scale=(0.8, 1.0)),  # Recorte aleatorio con zoom entre 80%-100%\n",
        "    transforms.RandomHorizontalFlip(p=0.5),  # Voltea horizontalmente con 50% de probabilidad\n",
        "    transforms.RandomRotation(15),  # Rotación aleatoria hasta 15 grados\n",
        "    transforms.ColorJitter(brightness=0.2, contrast=0.2, saturation=0.2, hue=0.1),  # Ajuste aleatorio de color\n",
        "    transforms.RandomAffine(degrees=0, translate=(0.1, 0.1)),  # Pequeños desplazamientos aleatorios\n",
        "    transforms.Resize((128, 128)),  # Redimensionar después de las transformaciones\n",
        "    MinMaxNormalize(),\n",
        "    #transforms.ToTensor(),\n",
        "\n",
        "    #transforms.Normalize(mean=[0.485, 0.456, 0.406], std=[0.229, 0.224, 0.225]),  # Normalización de ImageNet\n",
        "])\n",
        "\n",
        "val_transform = transforms.Compose([\n",
        "    transforms.Resize((128, 128)),  # Solo redimensionar en validación (sin data augmentation)\n",
        "    MinMaxNormalize(),\n",
        "    #transforms.ToTensor(),\n",
        "\n",
        "    #transforms.Normalize(mean=[0.485, 0.456, 0.406], std=[0.229, 0.224, 0.225]),\n",
        "])\n"
      ]
    },
    {
      "cell_type": "markdown",
      "metadata": {
        "id": "vYQkz2aQo4fC"
      },
      "source": [
        "## Definición del dataset"
      ]
    },
    {
      "cell_type": "code",
      "execution_count": null,
      "metadata": {
        "id": "u-v6MsjVzY6k"
      },
      "outputs": [],
      "source": [
        "class CustomDataset(Dataset):\n",
        "    def __init__(self, csv_file, img_dir, class_to_idx, transform=None):\n",
        "        \"\"\"\n",
        "        Args:\n",
        "            csv_file (str): Ruta al archivo CSV con las imágenes y sus etiquetas.\n",
        "            img_dir (str): Ruta al directorio que contiene las imágenes.\n",
        "            transform (callable, optional): Transformaciones que se aplican a las imágenes.\n",
        "        \"\"\"\n",
        "        self.img_labels = pd.read_csv(csv_file)  # Leer el archivo CSV con las etiquetas\n",
        "        self.img_dir = img_dir  # Ruta donde están las imágenes\n",
        "        self.transform = transform  # Transformaciones a aplicar\n",
        "        self.class_to_idx = class_to_idx\n",
        "\n",
        "    def __len__(self):\n",
        "        \"\"\"Retorna el número total de imágenes en el dataset\"\"\"\n",
        "        return len(self.img_labels)\n",
        "\n",
        "    def __getitem__(self, idx):\n",
        "        \"\"\"Obtiene una imagen y su etiqueta\"\"\"\n",
        "        img_name = os.path.join(self.img_dir, self.img_labels.iloc[idx, 0])  # Nombre de la imagen\n",
        "        image = Image.open(img_name)  # Abrir la imagen\n",
        "        label = self.class_to_idx[self.img_labels.iloc[idx, 3]] # Etiqueta asociada\n",
        "\n",
        "        if self.transform:\n",
        "            image = self.transform(image)  # Aplicar transformaciones si es necesario\n",
        "\n",
        "        return image, label"
      ]
    },
    {
      "cell_type": "markdown",
      "metadata": {
        "id": "AEqly6_ko4fC"
      },
      "source": [
        "## Rutas de archivos"
      ]
    },
    {
      "cell_type": "code",
      "execution_count": null,
      "metadata": {
        "id": "zoG5FJNXo4fD"
      },
      "outputs": [],
      "source": [
        "desdeGoogleColab = False\n",
        "drive_mount_path = \"\"\n",
        "try:\n",
        "    from google.colab import drive\n",
        "    desdeGoogleColab = True\n",
        "    drive_mount_path = os.path.join('content','drive')\n",
        "    drive.mount(drive_mount_path)\n",
        "    print(\"Ejecutando desde Google Colab\")\n",
        "\n",
        "except:\n",
        "    print(\"Ejecutando desde notebook\")\n",
        "\n",
        "initialRoute = os.path.join(drive_mount_path, 'MyDrive')if desdeGoogleColab else os.path.join('content')\n",
        "\n",
        "\n",
        "# Leer el CSV\n",
        "csvRoute = os.path.join(initialRoute,'GPTeam-DeepLearning','Dataset', 'bcn_20k_train.csv')\n",
        "filteredCsvRoute = os.path.join(initialRoute,'GPTeam-DeepLearning','Dataset', 'bcn_20k_train_filtrado.csv')\n",
        "imagesFolderRoute = os.path.join(initialRoute,'GPTeam-DeepLearning','Dataset', 'bcn_20k_train')\n",
        "trainDataJsonRoute = os.path.join(initialRoute,'GPTeam-DeepLearning','Dataset', 'data_train_resnet18_softAtt.json')\n",
        "validationDataJsonRoute = os.path.join(initialRoute,'GPTeam-DeepLearning','Dataset', 'data_val_resnet18_softAtt.json')\n",
        "runsRoute = os.path.join(initialRoute,'GPTeam-DeepLearning','Dataset', 'runs') if desdeGoogleColab else os.path.join('runs')\n",
        "savedParametersRoute = os.path.join(initialRoute,'GPTeam-DeepLearning','Dataset', 'saved_models_parameters', 'Parameters') if desdeGoogleColab else os.path.join('saved_models_parameters', 'Parameters')\n",
        "savedModelsRoute = os.path.join(initialRoute,'GPTeam-DeepLearning','Dataset', 'saved_models_parameters', 'Models') if desdeGoogleColab else os.path.join('saved_models_parameters', 'Models')\n",
        "executionLogerRoute = os.path.join(initialRoute, 'executionLogs.txt') if desdeGoogleColab else os.path.join(\"executionLogs.txt\")"
      ]
    },
    {
      "cell_type": "markdown",
      "source": [
        "Configuración del logger"
      ],
      "metadata": {
        "id": "nT8yXevcpEpU"
      }
    },
    {
      "cell_type": "code",
      "source": [
        "# Configurar el logger\n",
        "logging.basicConfig(\n",
        "    filename=executionLogerRoute,  # Nombre del archivo de logs\n",
        "    level=logging.INFO,      # Nivel mínimo de los logs (INFO es un nivel común)\n",
        "    format='%(asctime)s - %(message)s',  # Formato del log (con la fecha y hora)\n",
        ")"
      ],
      "metadata": {
        "id": "fcw9DpvGpENx"
      },
      "execution_count": null,
      "outputs": []
    },
    {
      "cell_type": "markdown",
      "metadata": {
        "id": "h7Nx4y-yo4fD"
      },
      "source": [
        "## Generación del dataset de entrenamiento y validación"
      ]
    },
    {
      "cell_type": "markdown",
      "metadata": {
        "id": "_0WuLUJzo4fD"
      },
      "source": [
        "***Carga del dataframe***"
      ]
    },
    {
      "cell_type": "code",
      "execution_count": null,
      "metadata": {
        "id": "YwiO8p4bo4fD",
        "outputId": "a0bcbdae-bd05-44dd-9fed-311b5b5581b7"
      },
      "outputs": [
        {
          "data": {
            "text/html": [
              "<div>\n",
              "<style scoped>\n",
              "    .dataframe tbody tr th:only-of-type {\n",
              "        vertical-align: middle;\n",
              "    }\n",
              "\n",
              "    .dataframe tbody tr th {\n",
              "        vertical-align: top;\n",
              "    }\n",
              "\n",
              "    .dataframe thead th {\n",
              "        text-align: right;\n",
              "    }\n",
              "</style>\n",
              "<table border=\"1\" class=\"dataframe\">\n",
              "  <thead>\n",
              "    <tr style=\"text-align: right;\">\n",
              "      <th></th>\n",
              "      <th>bcn_filename</th>\n",
              "      <th>age_approx</th>\n",
              "      <th>anatom_site_general</th>\n",
              "      <th>diagnosis</th>\n",
              "      <th>lesion_id</th>\n",
              "      <th>capture_date</th>\n",
              "      <th>sex</th>\n",
              "      <th>split</th>\n",
              "    </tr>\n",
              "  </thead>\n",
              "  <tbody>\n",
              "    <tr>\n",
              "      <th>0</th>\n",
              "      <td>BCN_0000000001.jpg</td>\n",
              "      <td>55.0</td>\n",
              "      <td>anterior torso</td>\n",
              "      <td>MEL</td>\n",
              "      <td>BCN_0003884</td>\n",
              "      <td>2012-05-16</td>\n",
              "      <td>male</td>\n",
              "      <td>train</td>\n",
              "    </tr>\n",
              "    <tr>\n",
              "      <th>1</th>\n",
              "      <td>BCN_0000000003.jpg</td>\n",
              "      <td>50.0</td>\n",
              "      <td>anterior torso</td>\n",
              "      <td>MEL</td>\n",
              "      <td>BCN_0000019</td>\n",
              "      <td>2015-07-09</td>\n",
              "      <td>female</td>\n",
              "      <td>train</td>\n",
              "    </tr>\n",
              "    <tr>\n",
              "      <th>2</th>\n",
              "      <td>BCN_0000000004.jpg</td>\n",
              "      <td>85.0</td>\n",
              "      <td>head/neck</td>\n",
              "      <td>SCC</td>\n",
              "      <td>BCN_0003499</td>\n",
              "      <td>2015-11-23</td>\n",
              "      <td>male</td>\n",
              "      <td>train</td>\n",
              "    </tr>\n",
              "    <tr>\n",
              "      <th>3</th>\n",
              "      <td>BCN_0000000006.jpg</td>\n",
              "      <td>60.0</td>\n",
              "      <td>anterior torso</td>\n",
              "      <td>NV</td>\n",
              "      <td>BCN_0003316</td>\n",
              "      <td>2015-06-16</td>\n",
              "      <td>male</td>\n",
              "      <td>train</td>\n",
              "    </tr>\n",
              "    <tr>\n",
              "      <th>4</th>\n",
              "      <td>BCN_0000000010.jpg</td>\n",
              "      <td>30.0</td>\n",
              "      <td>anterior torso</td>\n",
              "      <td>BCC</td>\n",
              "      <td>BCN_0004874</td>\n",
              "      <td>2014-02-18</td>\n",
              "      <td>female</td>\n",
              "      <td>train</td>\n",
              "    </tr>\n",
              "  </tbody>\n",
              "</table>\n",
              "</div>"
            ],
            "text/plain": [
              "         bcn_filename  age_approx anatom_site_general diagnosis    lesion_id  \\\n",
              "0  BCN_0000000001.jpg        55.0      anterior torso       MEL  BCN_0003884   \n",
              "1  BCN_0000000003.jpg        50.0      anterior torso       MEL  BCN_0000019   \n",
              "2  BCN_0000000004.jpg        85.0           head/neck       SCC  BCN_0003499   \n",
              "3  BCN_0000000006.jpg        60.0      anterior torso        NV  BCN_0003316   \n",
              "4  BCN_0000000010.jpg        30.0      anterior torso       BCC  BCN_0004874   \n",
              "\n",
              "  capture_date     sex  split  \n",
              "0   2012-05-16    male  train  \n",
              "1   2015-07-09  female  train  \n",
              "2   2015-11-23    male  train  \n",
              "3   2015-06-16    male  train  \n",
              "4   2014-02-18  female  train  "
            ]
          },
          "execution_count": 7,
          "metadata": {},
          "output_type": "execute_result"
        }
      ],
      "source": [
        "df = pd.read_csv(csvRoute)\n",
        "df.head()"
      ]
    },
    {
      "cell_type": "markdown",
      "metadata": {
        "id": "EdJ6weA8o4fE"
      },
      "source": [
        "***Exclusión de clases menos representativas***"
      ]
    },
    {
      "cell_type": "code",
      "execution_count": null,
      "metadata": {
        "id": "IyOtMRjNo4fE",
        "outputId": "06d68b8e-a9a7-449f-e186-a7f0b60f5647"
      },
      "outputs": [
        {
          "data": {
            "text/plain": [
              "{'MEL': 0, 'NV': 1, 'BCC': 2, 'BKL': 3, 'AK': 4}"
            ]
          },
          "execution_count": 8,
          "metadata": {},
          "output_type": "execute_result"
        }
      ],
      "source": [
        "df_original = df.copy()\n",
        "#Definir las clases que deseas excluir por su nombre\n",
        "clases_a_excluir = ['SCC', 'DF', 'VASC']  # Sustituye estos nombres por las clases que quieres excluir\n",
        "\n",
        "# Filtrar el DataFrame para excluir las clases especificadas\n",
        "df_filtrado = df[~df['diagnosis'].isin(clases_a_excluir)]\n",
        "\n",
        "df_filtrado.to_csv(filteredCsvRoute, index=False)\n",
        "\n",
        "df = df_filtrado.copy()\n",
        "class_to_idx = {class_name: idx for idx, class_name in enumerate(df['diagnosis'].unique())}\n",
        "class_to_idx"
      ]
    },
    {
      "cell_type": "markdown",
      "metadata": {
        "id": "57dwSzTHo4fE"
      },
      "source": [
        "***Busqueda de spliteo adecuado (sin lesson_id iguales para dataset de entrenamiento y validación)***"
      ]
    },
    {
      "cell_type": "code",
      "execution_count": null,
      "metadata": {
        "id": "_bU4Vz2oo4fE",
        "outputId": "656b250b-2409-43ca-f193-91eba716f59d"
      },
      "outputs": [
        {
          "name": "stdout",
          "output_type": "stream",
          "text": [
            "Random state encontrado: 25\n"
          ]
        }
      ],
      "source": [
        "# Obtener los valores únicos de lesion_id\n",
        "unique_lesions = df['lesion_id'].unique()\n",
        "\n",
        "# Búsqueda del mejor split\n",
        "best_train, best_test = None, None\n",
        "target_ratio = 0.8 * len(df)\n",
        "\n",
        "for seed in range(1000):  # Exploramos diferentes random_state\n",
        "    train_ids, test_ids = train_test_split(unique_lesions, test_size=0.2, random_state=seed)\n",
        "\n",
        "    x_train = df[df['lesion_id'].isin(train_ids)]\n",
        "    x_test = df[df['lesion_id'].isin(test_ids)]\n",
        "\n",
        "    # Verificar que la cantidad de filas sea la correcta Y que los lesion_id no se repitan\n",
        "    if abs(len(x_train) - target_ratio) < 1 and set(x_train['lesion_id']).isdisjoint(set(x_test['lesion_id'])):\n",
        "        best_train, best_test = x_train, x_test\n",
        "        print(f\"Random state encontrado: {seed}\")\n",
        "        break\n",
        "\n",
        "# Si no se encontró un split válido, lanzar error\n",
        "if best_train is None or best_test is None:\n",
        "    raise ValueError(\"No se encontró un split válido después de 1000 intentos\")\n",
        "\n",
        "# Asignar los mejores valores encontrados\n",
        "train_df, val_df = best_train, best_test\n",
        "\n",
        "assert set(train_df['lesion_id']).isdisjoint(set(val_df['lesion_id'])), \"Error: Hay lesion_id repetidos entre train_df y val_df\""
      ]
    },
    {
      "cell_type": "code",
      "execution_count": null,
      "metadata": {
        "id": "_iziAGWeo4fE"
      },
      "outputs": [],
      "source": [
        "# VERIFICACION ADICIONAL DE NO REPETICION DE LESSIONID EN AMBOS DATASETS\n",
        "for idtrain in train_df['lesion_id'].unique():\n",
        "    for idval in val_df['lesion_id'].unique():\n",
        "        if idtrain.strip() == idval.strip():\n",
        "            print(\"Coincidence found\")"
      ]
    },
    {
      "cell_type": "markdown",
      "metadata": {
        "id": "ca88ykt6o4fE"
      },
      "source": [
        "***Carga de las imágenes***"
      ]
    },
    {
      "cell_type": "code",
      "execution_count": null,
      "metadata": {
        "id": "YpXKSUdPo4fE"
      },
      "outputs": [],
      "source": [
        "# Crear el dataset de entrenamiento y validación\n",
        "train_dataset = CustomDataset(csv_file=filteredCsvRoute, img_dir=imagesFolderRoute, transform=train_transform)\n",
        "val_dataset = CustomDataset(csv_file=filteredCsvRoute, img_dir=imagesFolderRoute, transform=val_transform)\n",
        "\n",
        "# Actualizar los datasets con los subconjuntos correspondientes\n",
        "train_dataset.img_labels = train_df\n",
        "val_dataset.img_labels = val_df"
      ]
    },
    {
      "cell_type": "code",
      "execution_count": null,
      "metadata": {
        "id": "jlGfxLgMo4fE",
        "outputId": "afa50c0a-63d0-4671-d246-ff5f20bfcf9b"
      },
      "outputs": [
        {
          "name": "stdout",
          "output_type": "stream",
          "text": [
            "Cantidad de imagenes faltantes: 0\n"
          ]
        }
      ],
      "source": [
        "# Verificación de la carga de todos los arhivos\n",
        "archivos_en_directorio = []\n",
        "# Recorrer todos los archivos en el directorio\n",
        "for archivo in os.listdir(imagesFolderRoute):\n",
        "    if os.path.isfile(os.path.join(imagesFolderRoute, archivo)):\n",
        "        archivos_en_directorio.append(archivo)\n",
        "\n",
        "# La columna del DataFrame con los nombres de los archivos\n",
        "column_files = df['bcn_filename']\n",
        "# Convertir las listas a conjuntos para realizar la diferencia\n",
        "set_column_files = set(column_files)\n",
        "set_archivos_en_drive = set(archivos_en_directorio)\n",
        "valores_faltantes = set_column_files - set_archivos_en_drive\n",
        "\n",
        "print(f\"Cantidad de imagenes faltantes: {len(valores_faltantes)}\")"
      ]
    },
    {
      "cell_type": "markdown",
      "metadata": {
        "id": "nOaeh7_eo4fF"
      },
      "source": [
        "## **Guardado de los datasets divididos inicialmente**"
      ]
    },
    {
      "cell_type": "markdown",
      "metadata": {
        "id": "D8ipkv0bo4fF"
      },
      "source": [
        "**Guardado de data de dataframes de entrenamiento y validación**"
      ]
    },
    {
      "cell_type": "code",
      "execution_count": null,
      "metadata": {
        "id": "8tqQqqcko4fF"
      },
      "outputs": [],
      "source": [
        "train_df.to_json(trainDataJsonRoute, orient='records', lines=True)\n",
        "val_df.to_json(validationDataJsonRoute, orient='records', lines=True)"
      ]
    },
    {
      "cell_type": "markdown",
      "metadata": {
        "id": "x8YDhHJYo4fF"
      },
      "source": [
        "**Definición del Modelo**"
      ]
    },
    {
      "cell_type": "code",
      "execution_count": null,
      "metadata": {
        "id": "nn0JXtFNo4fF"
      },
      "outputs": [],
      "source": [
        "# Mecanismo de Soft-Attention Espacial\n",
        "class SpatialAttention(nn.Module):\n",
        "    def __init__(self, in_channels):\n",
        "        super(SpatialAttention, self).__init__()\n",
        "        self.conv_attention = nn.Sequential(\n",
        "            nn.Conv2d(in_channels, 1, kernel_size=1),  # Mapa de atención 1x1\n",
        "            nn.Softmax(dim=2)                           # Normalización espacial\n",
        "        )\n",
        "\n",
        "    def forward(self, x):\n",
        "        # x: (batch, 512, H, W) [Ej: (batch, 512, 7, 7)]\n",
        "        # Generar mapa de atención (batch, 1, H, W)\n",
        "        attn_weights = self.conv_attention(x)\n",
        "        # Aplicar atención: características * pesos\n",
        "        attended_features = x * attn_weights  # Broadcasting automático\n",
        "\n",
        "        return attended_features\n",
        "\n",
        "\n",
        "# Modelo ResNet18 con Dropout + Soft-Attention\n",
        "class ResNet18WithAttention(nn.Module):\n",
        "    def __init__(self, num_classes):\n",
        "        super(ResNet18WithAttention, self).__init__()\n",
        "        # 1. Cargar ResNet18 preentrenado\n",
        "        self.resnet18 = models.resnet18(pretrained=True)\n",
        "\n",
        "        # 2. Congelar capas convolucionales\n",
        "        for param in self.resnet18.parameters():\n",
        "            param.requires_grad = False\n",
        "\n",
        "        # 2.1 Descongelar la ultima capa\n",
        "        for param in self.resnet18.layer4.parameters():\n",
        "            param.requires_grad = True\n",
        "\n",
        "        # 2.1 Descongelar la ultima capa\n",
        "        for param in self.resnet18.layer3.parameters():\n",
        "            param.requires_grad = True\n",
        "\n",
        "        # 3. Añadir mecanismo de atención espacial\n",
        "        self.attention = SpatialAttention(in_channels=512)  # ResNet18 tiene 512 canales al final\n",
        "\n",
        "        # 4. Modificar capas FC con Dropout\n",
        "        self.resnet18.fc = nn.Sequential(\n",
        "            nn.Linear(512, 512),\n",
        "            nn.BatchNorm1d(512),\n",
        "            nn.ReLU(),\n",
        "            nn.Dropout(0.3),\n",
        "            nn.Linear(512, num_classes)\n",
        "        )\n",
        "\n",
        "    def forward(self, x):\n",
        "        # Extraer características hasta la última capa convolucional\n",
        "        x = self.resnet18.conv1(x)\n",
        "        x = self.resnet18.bn1(x)\n",
        "        x = self.resnet18.relu(x)\n",
        "        x = self.resnet18.maxpool(x)\n",
        "        x = self.resnet18.layer1(x)\n",
        "        x = self.resnet18.layer2(x)\n",
        "        x = self.resnet18.layer3(x)\n",
        "        x = self.resnet18.layer4(x)  # Salida: (batch, 512, 7, 7)\n",
        "\n",
        "        # Aplicar atención espacial\n",
        "        x = self.attention(x)  # (batch, 512, 7, 7) con pesos aprendidos\n",
        "\n",
        "        # Global Average Pooling y clasificación\n",
        "        x = self.resnet18.avgpool(x)  # (batch, 512, 1, 1)\n",
        "        x = torch.flatten(x, 1)       # (batch, 512)\n",
        "        x = self.resnet18.fc(x)       # (batch, num_classes)\n",
        "\n",
        "        return x"
      ]
    },
    {
      "cell_type": "markdown",
      "metadata": {
        "id": "YbMw8neHo4fF"
      },
      "source": [
        "# Visualización de la ejecución del modelo"
      ]
    },
    {
      "cell_type": "markdown",
      "metadata": {
        "id": "igpkASq0o4fF"
      },
      "source": [
        "Ejecutar desde cmd lo siguiente para ver desde el navegador el menú de tensorboard: tensorboard --logdir=runs"
      ]
    },
    {
      "cell_type": "markdown",
      "source": [
        "Eliminar contenido de runs"
      ],
      "metadata": {
        "id": "d2KJAK6UphWc"
      }
    },
    {
      "cell_type": "code",
      "source": [
        "def borrar_contenido_directorio(directorio):\n",
        "    if os.path.isdir(directorio):  # Verifica si es un directorio\n",
        "        for elemento in os.listdir(directorio):\n",
        "            ruta_elemento = os.path.join(directorio, elemento)\n",
        "            if os.path.isfile(ruta_elemento):  # Si es un archivo, lo borra\n",
        "                os.remove(ruta_elemento)\n",
        "            elif os.path.isdir(ruta_elemento):  # Si es un directorio, lo borra recursivamente\n",
        "                shutil.rmtree(ruta_elemento)\n",
        "        print(f\"Todo el contenido de '{directorio}' ha sido eliminado.\")\n",
        "    else:\n",
        "        print(f\"La ruta '{directorio}' no es un directorio válido.\")\n",
        "\n",
        "borrar_contenido_directorio(runsRoute)"
      ],
      "metadata": {
        "id": "Tj9V6zSlpjtX"
      },
      "execution_count": null,
      "outputs": []
    },
    {
      "cell_type": "markdown",
      "source": [
        "Ejecución en navegador"
      ],
      "metadata": {
        "id": "c_9eOOOEppkJ"
      }
    },
    {
      "cell_type": "code",
      "source": [
        "def run_tensorboard(logdir=\"runs\", port=6006):\n",
        "    try:\n",
        "        process = subprocess.Popen(\n",
        "            [\"tensorboard\", f\"--logdir={logdir}\", f\"--port={port}\"],\n",
        "            stdout=subprocess.PIPE,\n",
        "            stderr=subprocess.PIPE\n",
        "        )\n",
        "        print(f\"TensorBoard ejecutándose en http://localhost:{port}\")\n",
        "        return process\n",
        "    except Exception as e:\n",
        "        print(f\"Error al iniciar TensorBoard: {e}\")\n",
        "\n",
        "# Ejecutar TensorBoard\n",
        "tb_process = run_tensorboard(runsRoute)"
      ],
      "metadata": {
        "id": "vbGnLt2tpnr6"
      },
      "execution_count": null,
      "outputs": []
    },
    {
      "cell_type": "markdown",
      "source": [
        "Ejecucion en notebook"
      ],
      "metadata": {
        "id": "wc3e3wjqpunG"
      }
    },
    {
      "cell_type": "code",
      "execution_count": null,
      "metadata": {
        "id": "m0py_500o4fF",
        "outputId": "898f5925-49b7-4f83-e3e1-bb32b441bf4c"
      },
      "outputs": [
        {
          "name": "stdout",
          "output_type": "stream",
          "text": [
            "The tensorboard extension is already loaded. To reload it, use:\n",
            "  %reload_ext tensorboard\n"
          ]
        },
        {
          "data": {
            "text/plain": [
              "Reusing TensorBoard on port 6006 (pid 3771), started 0:00:11 ago. (Use '!kill 3771' to kill it.)"
            ]
          },
          "metadata": {},
          "output_type": "display_data"
        },
        {
          "data": {
            "text/html": [
              "\n",
              "      <iframe id=\"tensorboard-frame-103b46a04b3aa46a\" width=\"100%\" height=\"800\" frameborder=\"0\">\n",
              "      </iframe>\n",
              "      <script>\n",
              "        (function() {\n",
              "          const frame = document.getElementById(\"tensorboard-frame-103b46a04b3aa46a\");\n",
              "          const url = new URL(\"http://localhost\");\n",
              "          const port = 6006;\n",
              "          if (port) {\n",
              "            url.port = port;\n",
              "          }\n",
              "          frame.src = url;\n",
              "        })();\n",
              "      </script>\n",
              "    "
            ],
            "text/plain": [
              "<IPython.core.display.HTML object>"
            ]
          },
          "metadata": {},
          "output_type": "display_data"
        }
      ],
      "source": [
        "%load_ext tensorboard\n",
        "%tensorboard --logdir runs"
      ]
    },
    {
      "cell_type": "markdown",
      "source": [
        "## **Entrenamiento del modelo**"
      ],
      "metadata": {
        "id": "rsKsMgzPpzxt"
      }
    },
    {
      "cell_type": "markdown",
      "metadata": {
        "id": "EzMVQoqRo4fG"
      },
      "source": [
        "**Definición de gráficas adicionales a emplear**"
      ]
    },
    {
      "cell_type": "code",
      "execution_count": null,
      "metadata": {
        "id": "KqiCc1Dno4fG"
      },
      "outputs": [],
      "source": [
        "# Función para registrar el heatmap (matriz de confusión)\n",
        "def log_heatmap(writer, epoch, ground_truth, predictions, labels):\n",
        "    # Calcula la matriz de confusión usando el orden de las etiquetas\n",
        "    cm = confusion_matrix(ground_truth, predictions, labels=range(len(labels)))\n",
        "\n",
        "    # Crear la figura\n",
        "    fig, ax = plt.subplots(figsize=(8, 6))\n",
        "    sns.heatmap(cm, annot=True, fmt=\"d\", cmap=\"Blues\",\n",
        "                xticklabels=labels, yticklabels=labels, ax=ax)\n",
        "    ax.set_xlabel(\"Predicción\")\n",
        "    ax.set_ylabel(\"Groundtruth\")\n",
        "    ax.set_title(\"Matriz de Confusión\")\n",
        "\n",
        "    # Registrar la figura en TensorBoard\n",
        "    writer.add_figure(\"Heatmap\", fig, global_step=epoch)\n",
        "    plt.close(fig)\n",
        "\n",
        "# Función para registrar la grilla 2x2 de TP, FP, TN, FN (para clasificación binaria)\n",
        "def log_values_predicted(writer, epoch, ground_truth, predictions):\n",
        "    # Calcular la matriz de confusión\n",
        "    cm = confusion_matrix(ground_truth, predictions, labels=[0, 1])\n",
        "\n",
        "    # Crear anotaciones combinando etiqueta y valor\n",
        "    annot = np.array([\n",
        "        [f\"TN\\n{cm[0,0]}\", f\"FP\\n{cm[0,1]}\"],\n",
        "        [f\"FN\\n{cm[1,0]}\", f\"TP\\n{cm[1,1]}\"]\n",
        "    ])\n",
        "\n",
        "    # Crear el heatmap\n",
        "    fig, ax = plt.subplots(figsize=(6, 5))\n",
        "    sns.heatmap(cm, annot=annot, fmt=\"\", cmap=\"Blues\",\n",
        "                xticklabels=[\"False\", \"True\"],\n",
        "                yticklabels=[\"False\", \"True\"],\n",
        "                cbar=True, ax=ax)\n",
        "    ax.set_xlabel(\"Eje Predicho (False/True)\")\n",
        "    ax.set_ylabel(\"Eje Verdadero (False/True)\")\n",
        "    ax.set_title(\"Predicción de valores\")\n",
        "\n",
        "    # Registrar la figura en TensorBoard\n",
        "    writer.add_figure(\"Predicción de valores\", fig, global_step=epoch)\n",
        "    plt.close(fig)"
      ]
    },
    {
      "cell_type": "markdown",
      "metadata": {
        "id": "J3wZ2HX7o4fG"
      },
      "source": [
        "**Seteo del dispositivo a usar**"
      ]
    },
    {
      "cell_type": "code",
      "execution_count": null,
      "metadata": {
        "id": "iMogZ_FEo4fG",
        "outputId": "d361f5d5-2212-4fc6-d66d-f1dcdbb591b2"
      },
      "outputs": [
        {
          "name": "stdout",
          "output_type": "stream",
          "text": [
            "Dispositivo utilizado: cpu\n"
          ]
        }
      ],
      "source": [
        "device = torch.device('cuda' if torch.cuda.is_available() else 'cpu')\n",
        "if torch.cuda.is_available():\n",
        "    print(F\"Dispositivo utilizado: {device} ({torch.cuda.get_device_name()})\")\n",
        "else:\n",
        "    print(F\"Dispositivo utilizado: {device}\")"
      ]
    },
    {
      "cell_type": "markdown",
      "metadata": {
        "id": "ajVV-67Ho4fG"
      },
      "source": [
        "**Especificación de parámetros**"
      ]
    },
    {
      "cell_type": "code",
      "execution_count": null,
      "metadata": {
        "id": "euK5DqEro4fG"
      },
      "outputs": [],
      "source": [
        "learning_rate = 0.0001\n",
        "num_classes = 5\n",
        "num_epochs = 70\n",
        "batch_size = 32"
      ]
    },
    {
      "cell_type": "markdown",
      "metadata": {
        "id": "rTg3EM6Oo4fG"
      },
      "source": [
        "**Ejecución del modelo**"
      ]
    },
    {
      "cell_type": "code",
      "execution_count": null,
      "metadata": {
        "id": "VwYQH-vSo4fJ",
        "outputId": "98b72b9c-cc8e-41b5-c956-f99b3fc30c6f"
      },
      "outputs": [
        {
          "name": "stderr",
          "output_type": "stream",
          "text": [
            "d:\\Jesus\\Ciclo 2025-0\\DeepLearning\\deepLearningSkinDisVenv\\lib\\site-packages\\torchvision\\models\\_utils.py:208: UserWarning: The parameter 'pretrained' is deprecated since 0.13 and may be removed in the future, please use 'weights' instead.\n",
            "  warnings.warn(\n",
            "d:\\Jesus\\Ciclo 2025-0\\DeepLearning\\deepLearningSkinDisVenv\\lib\\site-packages\\torchvision\\models\\_utils.py:223: UserWarning: Arguments other than a weight enum or `None` for 'weights' are deprecated since 0.13 and may be removed in the future. The current behavior is equivalent to passing `weights=ResNet18_Weights.IMAGENET1K_V1`. You can also use `weights=ResNet18_Weights.DEFAULT` to get the most up-to-date weights.\n",
            "  warnings.warn(msg)\n",
            "Epoch 1/70 - Training: 100%|██████████| 294/294 [09:15<00:00,  1.89s/it]\n"
          ]
        },
        {
          "name": "stdout",
          "output_type": "stream",
          "text": [
            "Epoch 1/70 FINISHED => Train Loss: 1.4016, Val Loss: 1.2792, Train Acc: 41.48%, Val Acc: 50.30%\n"
          ]
        },
        {
          "name": "stderr",
          "output_type": "stream",
          "text": [
            "Epoch 2/70 - Training: 100%|██████████| 294/294 [08:01<00:00,  1.64s/it]\n"
          ]
        },
        {
          "name": "stdout",
          "output_type": "stream",
          "text": [
            "Epoch 2/70 FINISHED => Train Loss: 1.2357, Val Loss: 1.1777, Train Acc: 52.20%, Val Acc: 55.11%\n"
          ]
        },
        {
          "name": "stderr",
          "output_type": "stream",
          "text": [
            "Epoch 3/70 - Training: 100%|██████████| 294/294 [07:46<00:00,  1.59s/it]\n"
          ]
        },
        {
          "name": "stdout",
          "output_type": "stream",
          "text": [
            "Epoch 3/70 FINISHED => Train Loss: 1.1619, Val Loss: 1.1207, Train Acc: 55.81%, Val Acc: 57.83%\n"
          ]
        },
        {
          "name": "stderr",
          "output_type": "stream",
          "text": [
            "Epoch 4/70 - Training: 100%|██████████| 294/294 [07:39<00:00,  1.56s/it]\n"
          ]
        },
        {
          "name": "stdout",
          "output_type": "stream",
          "text": [
            "Epoch 4/70 FINISHED => Train Loss: 1.1210, Val Loss: 1.0846, Train Acc: 57.51%, Val Acc: 58.81%\n"
          ]
        },
        {
          "name": "stderr",
          "output_type": "stream",
          "text": [
            "Epoch 5/70 - Training: 100%|██████████| 294/294 [07:58<00:00,  1.63s/it]\n"
          ]
        },
        {
          "name": "stdout",
          "output_type": "stream",
          "text": [
            "Epoch 5/70 FINISHED => Train Loss: 1.0909, Val Loss: 1.0745, Train Acc: 58.42%, Val Acc: 58.77%\n"
          ]
        },
        {
          "name": "stderr",
          "output_type": "stream",
          "text": [
            "Epoch 6/70 - Training: 100%|██████████| 294/294 [07:39<00:00,  1.56s/it]\n"
          ]
        },
        {
          "name": "stdout",
          "output_type": "stream",
          "text": [
            "Epoch 6/70 FINISHED => Train Loss: 1.0586, Val Loss: 1.0553, Train Acc: 59.61%, Val Acc: 59.28%\n"
          ]
        },
        {
          "name": "stderr",
          "output_type": "stream",
          "text": [
            "Epoch 7/70 - Training: 100%|██████████| 294/294 [07:47<00:00,  1.59s/it]\n"
          ]
        },
        {
          "name": "stdout",
          "output_type": "stream",
          "text": [
            "Epoch 7/70 FINISHED => Train Loss: 1.0355, Val Loss: 1.0364, Train Acc: 60.38%, Val Acc: 59.62%\n"
          ]
        },
        {
          "name": "stderr",
          "output_type": "stream",
          "text": [
            "Epoch 8/70 - Training: 100%|██████████| 294/294 [08:06<00:00,  1.66s/it]\n"
          ]
        },
        {
          "name": "stdout",
          "output_type": "stream",
          "text": [
            "Epoch 8/70 FINISHED => Train Loss: 1.0193, Val Loss: 1.0337, Train Acc: 61.54%, Val Acc: 60.21%\n"
          ]
        },
        {
          "name": "stderr",
          "output_type": "stream",
          "text": [
            "Epoch 9/70 - Training: 100%|██████████| 294/294 [07:47<00:00,  1.59s/it]\n"
          ]
        },
        {
          "name": "stdout",
          "output_type": "stream",
          "text": [
            "Epoch 9/70 FINISHED => Train Loss: 1.0111, Val Loss: 1.0211, Train Acc: 61.15%, Val Acc: 61.32%\n"
          ]
        },
        {
          "name": "stderr",
          "output_type": "stream",
          "text": [
            "Epoch 10/70 - Training: 100%|██████████| 294/294 [07:41<00:00,  1.57s/it]\n"
          ]
        },
        {
          "name": "stdout",
          "output_type": "stream",
          "text": [
            "Epoch 10/70 FINISHED => Train Loss: 0.9958, Val Loss: 1.0247, Train Acc: 62.14%, Val Acc: 61.15%\n"
          ]
        },
        {
          "name": "stderr",
          "output_type": "stream",
          "text": [
            "Epoch 11/70 - Training: 100%|██████████| 294/294 [07:52<00:00,  1.61s/it]\n"
          ]
        },
        {
          "name": "stdout",
          "output_type": "stream",
          "text": [
            "Epoch 11/70 FINISHED => Train Loss: 0.9850, Val Loss: 1.0072, Train Acc: 62.59%, Val Acc: 62.17%\n"
          ]
        },
        {
          "name": "stderr",
          "output_type": "stream",
          "text": [
            "Epoch 12/70 - Training: 100%|██████████| 294/294 [07:42<00:00,  1.57s/it]\n"
          ]
        },
        {
          "name": "stdout",
          "output_type": "stream",
          "text": [
            "Epoch 12/70 FINISHED => Train Loss: 0.9728, Val Loss: 1.0036, Train Acc: 62.84%, Val Acc: 61.79%\n"
          ]
        },
        {
          "name": "stderr",
          "output_type": "stream",
          "text": [
            "Epoch 13/70 - Training: 100%|██████████| 294/294 [07:39<00:00,  1.56s/it]\n"
          ]
        },
        {
          "name": "stdout",
          "output_type": "stream",
          "text": [
            "Epoch 13/70 FINISHED => Train Loss: 0.9584, Val Loss: 0.9871, Train Acc: 63.54%, Val Acc: 62.17%\n"
          ]
        },
        {
          "name": "stderr",
          "output_type": "stream",
          "text": [
            "Epoch 14/70 - Training: 100%|██████████| 294/294 [09:52<00:00,  2.01s/it]\n"
          ]
        },
        {
          "name": "stdout",
          "output_type": "stream",
          "text": [
            "Epoch 14/70 FINISHED => Train Loss: 0.9587, Val Loss: 0.9845, Train Acc: 63.55%, Val Acc: 62.77%\n"
          ]
        },
        {
          "name": "stderr",
          "output_type": "stream",
          "text": [
            "Epoch 15/70 - Training: 100%|██████████| 294/294 [08:10<00:00,  1.67s/it]\n"
          ]
        },
        {
          "name": "stdout",
          "output_type": "stream",
          "text": [
            "Epoch 15/70 FINISHED => Train Loss: 0.9411, Val Loss: 0.9799, Train Acc: 64.41%, Val Acc: 62.89%\n"
          ]
        },
        {
          "name": "stderr",
          "output_type": "stream",
          "text": [
            "Epoch 16/70 - Training: 100%|██████████| 294/294 [07:52<00:00,  1.61s/it]\n"
          ]
        },
        {
          "name": "stdout",
          "output_type": "stream",
          "text": [
            "Epoch 16/70 FINISHED => Train Loss: 0.9386, Val Loss: 0.9777, Train Acc: 64.34%, Val Acc: 63.32%\n"
          ]
        },
        {
          "name": "stderr",
          "output_type": "stream",
          "text": [
            "Epoch 17/70 - Training: 100%|██████████| 294/294 [07:44<00:00,  1.58s/it]\n"
          ]
        },
        {
          "name": "stdout",
          "output_type": "stream",
          "text": [
            "Epoch 17/70 FINISHED => Train Loss: 0.9350, Val Loss: 0.9652, Train Acc: 64.17%, Val Acc: 63.23%\n"
          ]
        },
        {
          "name": "stderr",
          "output_type": "stream",
          "text": [
            "Epoch 18/70 - Training: 100%|██████████| 294/294 [07:51<00:00,  1.60s/it]\n"
          ]
        },
        {
          "name": "stdout",
          "output_type": "stream",
          "text": [
            "Epoch 18/70 FINISHED => Train Loss: 0.9205, Val Loss: 0.9749, Train Acc: 64.72%, Val Acc: 62.81%\n"
          ]
        },
        {
          "name": "stderr",
          "output_type": "stream",
          "text": [
            "Epoch 19/70 - Training: 100%|██████████| 294/294 [07:37<00:00,  1.56s/it]\n"
          ]
        },
        {
          "name": "stdout",
          "output_type": "stream",
          "text": [
            "Epoch 19/70 FINISHED => Train Loss: 0.9055, Val Loss: 0.9642, Train Acc: 65.40%, Val Acc: 63.45%\n"
          ]
        },
        {
          "name": "stderr",
          "output_type": "stream",
          "text": [
            "Epoch 20/70 - Training: 100%|██████████| 294/294 [07:41<00:00,  1.57s/it]\n"
          ]
        },
        {
          "name": "stdout",
          "output_type": "stream",
          "text": [
            "Epoch 20/70 FINISHED => Train Loss: 0.9060, Val Loss: 0.9582, Train Acc: 65.43%, Val Acc: 63.32%\n"
          ]
        },
        {
          "name": "stderr",
          "output_type": "stream",
          "text": [
            "Epoch 21/70 - Training: 100%|██████████| 294/294 [07:51<00:00,  1.60s/it]\n"
          ]
        },
        {
          "name": "stdout",
          "output_type": "stream",
          "text": [
            "Epoch 21/70 FINISHED => Train Loss: 0.8996, Val Loss: 0.9588, Train Acc: 65.71%, Val Acc: 64.51%\n"
          ]
        },
        {
          "name": "stderr",
          "output_type": "stream",
          "text": [
            "Epoch 22/70 - Training: 100%|██████████| 294/294 [07:59<00:00,  1.63s/it]\n"
          ]
        },
        {
          "name": "stdout",
          "output_type": "stream",
          "text": [
            "Epoch 22/70 FINISHED => Train Loss: 0.8892, Val Loss: 0.9662, Train Acc: 66.52%, Val Acc: 63.87%\n"
          ]
        },
        {
          "name": "stderr",
          "output_type": "stream",
          "text": [
            "Epoch 23/70 - Training: 100%|██████████| 294/294 [07:46<00:00,  1.59s/it]\n"
          ]
        },
        {
          "name": "stdout",
          "output_type": "stream",
          "text": [
            "Epoch 23/70 FINISHED => Train Loss: 0.8803, Val Loss: 0.9548, Train Acc: 66.38%, Val Acc: 63.74%\n"
          ]
        },
        {
          "name": "stderr",
          "output_type": "stream",
          "text": [
            "Epoch 24/70 - Training: 100%|██████████| 294/294 [08:26<00:00,  1.72s/it]\n"
          ]
        },
        {
          "name": "stdout",
          "output_type": "stream",
          "text": [
            "Epoch 24/70 FINISHED => Train Loss: 0.8662, Val Loss: 0.9515, Train Acc: 66.87%, Val Acc: 64.43%\n"
          ]
        },
        {
          "name": "stderr",
          "output_type": "stream",
          "text": [
            "Epoch 25/70 - Training: 100%|██████████| 294/294 [07:40<00:00,  1.56s/it]\n"
          ]
        },
        {
          "name": "stdout",
          "output_type": "stream",
          "text": [
            "Epoch 25/70 FINISHED => Train Loss: 0.8595, Val Loss: 0.9552, Train Acc: 67.10%, Val Acc: 64.30%\n"
          ]
        },
        {
          "name": "stderr",
          "output_type": "stream",
          "text": [
            "Epoch 26/70 - Training: 100%|██████████| 294/294 [07:41<00:00,  1.57s/it]\n"
          ]
        },
        {
          "name": "stdout",
          "output_type": "stream",
          "text": [
            "Epoch 26/70 FINISHED => Train Loss: 0.8707, Val Loss: 0.9541, Train Acc: 66.78%, Val Acc: 64.21%\n"
          ]
        },
        {
          "name": "stderr",
          "output_type": "stream",
          "text": [
            "Epoch 27/70 - Training: 100%|██████████| 294/294 [07:43<00:00,  1.58s/it]\n"
          ]
        },
        {
          "name": "stdout",
          "output_type": "stream",
          "text": [
            "Epoch 27/70 FINISHED => Train Loss: 0.8472, Val Loss: 0.9541, Train Acc: 67.80%, Val Acc: 63.83%\n"
          ]
        },
        {
          "name": "stderr",
          "output_type": "stream",
          "text": [
            "Epoch 28/70 - Training: 100%|██████████| 294/294 [07:53<00:00,  1.61s/it]\n"
          ]
        },
        {
          "name": "stdout",
          "output_type": "stream",
          "text": [
            "Epoch 28/70 FINISHED => Train Loss: 0.8460, Val Loss: 0.9450, Train Acc: 67.88%, Val Acc: 64.51%\n"
          ]
        },
        {
          "name": "stderr",
          "output_type": "stream",
          "text": [
            "Epoch 29/70 - Training: 100%|██████████| 294/294 [07:59<00:00,  1.63s/it]\n"
          ]
        },
        {
          "name": "stdout",
          "output_type": "stream",
          "text": [
            "Epoch 29/70 FINISHED => Train Loss: 0.8476, Val Loss: 0.9495, Train Acc: 67.54%, Val Acc: 64.34%\n"
          ]
        },
        {
          "name": "stderr",
          "output_type": "stream",
          "text": [
            "Epoch 30/70 - Training: 100%|██████████| 294/294 [07:51<00:00,  1.60s/it]\n"
          ]
        },
        {
          "name": "stdout",
          "output_type": "stream",
          "text": [
            "Epoch 30/70 FINISHED => Train Loss: 0.8379, Val Loss: 0.9490, Train Acc: 68.22%, Val Acc: 63.96%\n"
          ]
        },
        {
          "name": "stderr",
          "output_type": "stream",
          "text": [
            "Epoch 31/70 - Training: 100%|██████████| 294/294 [07:45<00:00,  1.58s/it]\n"
          ]
        },
        {
          "name": "stdout",
          "output_type": "stream",
          "text": [
            "Epoch 31/70 FINISHED => Train Loss: 0.8381, Val Loss: 0.9411, Train Acc: 68.03%, Val Acc: 64.72%\n"
          ]
        },
        {
          "name": "stderr",
          "output_type": "stream",
          "text": [
            "Epoch 32/70 - Training: 100%|██████████| 294/294 [07:39<00:00,  1.56s/it]\n"
          ]
        },
        {
          "name": "stdout",
          "output_type": "stream",
          "text": [
            "Epoch 32/70 FINISHED => Train Loss: 0.8227, Val Loss: 0.9549, Train Acc: 68.87%, Val Acc: 63.96%\n"
          ]
        },
        {
          "name": "stderr",
          "output_type": "stream",
          "text": [
            "Epoch 33/70 - Training: 100%|██████████| 294/294 [07:41<00:00,  1.57s/it]\n"
          ]
        },
        {
          "name": "stdout",
          "output_type": "stream",
          "text": [
            "Epoch 33/70 FINISHED => Train Loss: 0.8245, Val Loss: 0.9463, Train Acc: 68.39%, Val Acc: 63.91%\n"
          ]
        },
        {
          "name": "stderr",
          "output_type": "stream",
          "text": [
            "Epoch 34/70 - Training: 100%|██████████| 294/294 [07:43<00:00,  1.58s/it]\n"
          ]
        },
        {
          "name": "stdout",
          "output_type": "stream",
          "text": [
            "Epoch 34/70 FINISHED => Train Loss: 0.8082, Val Loss: 0.9456, Train Acc: 68.99%, Val Acc: 64.17%\n"
          ]
        },
        {
          "name": "stderr",
          "output_type": "stream",
          "text": [
            "Epoch 35/70 - Training: 100%|██████████| 294/294 [07:48<00:00,  1.59s/it]\n"
          ]
        },
        {
          "name": "stdout",
          "output_type": "stream",
          "text": [
            "Epoch 35/70 FINISHED => Train Loss: 0.8074, Val Loss: 0.9484, Train Acc: 69.68%, Val Acc: 64.38%\n"
          ]
        },
        {
          "name": "stderr",
          "output_type": "stream",
          "text": [
            "Epoch 36/70 - Training: 100%|██████████| 294/294 [07:55<00:00,  1.62s/it]\n"
          ]
        },
        {
          "name": "stdout",
          "output_type": "stream",
          "text": [
            "Epoch 36/70 FINISHED => Train Loss: 0.8030, Val Loss: 0.9538, Train Acc: 69.55%, Val Acc: 63.83%\n"
          ]
        },
        {
          "name": "stderr",
          "output_type": "stream",
          "text": [
            "Epoch 37/70 - Training: 100%|██████████| 294/294 [08:05<00:00,  1.65s/it]\n"
          ]
        },
        {
          "name": "stdout",
          "output_type": "stream",
          "text": [
            "Epoch 37/70 FINISHED => Train Loss: 0.7964, Val Loss: 0.9515, Train Acc: 69.75%, Val Acc: 64.21%\n"
          ]
        },
        {
          "name": "stderr",
          "output_type": "stream",
          "text": [
            "Epoch 38/70 - Training: 100%|██████████| 294/294 [07:43<00:00,  1.58s/it]\n"
          ]
        },
        {
          "name": "stdout",
          "output_type": "stream",
          "text": [
            "Epoch 38/70 FINISHED => Train Loss: 0.8016, Val Loss: 0.9522, Train Acc: 69.77%, Val Acc: 64.34%\n"
          ]
        },
        {
          "name": "stderr",
          "output_type": "stream",
          "text": [
            "Epoch 39/70 - Training: 100%|██████████| 294/294 [07:41<00:00,  1.57s/it]\n"
          ]
        },
        {
          "name": "stdout",
          "output_type": "stream",
          "text": [
            "Epoch 39/70 FINISHED => Train Loss: 0.8050, Val Loss: 0.9450, Train Acc: 69.28%, Val Acc: 64.68%\n"
          ]
        },
        {
          "name": "stderr",
          "output_type": "stream",
          "text": [
            "Epoch 40/70 - Training: 100%|██████████| 294/294 [07:41<00:00,  1.57s/it]\n"
          ]
        },
        {
          "name": "stdout",
          "output_type": "stream",
          "text": [
            "Epoch 40/70 FINISHED => Train Loss: 0.7981, Val Loss: 0.9460, Train Acc: 69.95%, Val Acc: 64.21%\n"
          ]
        },
        {
          "name": "stderr",
          "output_type": "stream",
          "text": [
            "Epoch 41/70 - Training: 100%|██████████| 294/294 [07:53<00:00,  1.61s/it]\n"
          ]
        },
        {
          "name": "stdout",
          "output_type": "stream",
          "text": [
            "Epoch 41/70 FINISHED => Train Loss: 0.7887, Val Loss: 0.9475, Train Acc: 69.96%, Val Acc: 64.04%\n"
          ]
        },
        {
          "name": "stderr",
          "output_type": "stream",
          "text": [
            "Epoch 42/70 - Training: 100%|██████████| 294/294 [07:56<00:00,  1.62s/it]\n"
          ]
        },
        {
          "name": "stdout",
          "output_type": "stream",
          "text": [
            "Epoch 42/70 FINISHED => Train Loss: 0.7880, Val Loss: 0.9432, Train Acc: 69.72%, Val Acc: 64.55%\n"
          ]
        },
        {
          "name": "stderr",
          "output_type": "stream",
          "text": [
            "Epoch 43/70 - Training: 100%|██████████| 294/294 [08:00<00:00,  1.63s/it]\n"
          ]
        },
        {
          "name": "stdout",
          "output_type": "stream",
          "text": [
            "Epoch 43/70 FINISHED => Train Loss: 0.7886, Val Loss: 0.9364, Train Acc: 70.15%, Val Acc: 64.98%\n"
          ]
        },
        {
          "name": "stderr",
          "output_type": "stream",
          "text": [
            "Epoch 44/70 - Training: 100%|██████████| 294/294 [08:10<00:00,  1.67s/it]\n"
          ]
        },
        {
          "name": "stdout",
          "output_type": "stream",
          "text": [
            "Epoch 44/70 FINISHED => Train Loss: 0.7882, Val Loss: 0.9444, Train Acc: 69.88%, Val Acc: 64.43%\n"
          ]
        },
        {
          "name": "stderr",
          "output_type": "stream",
          "text": [
            "Epoch 45/70 - Training: 100%|██████████| 294/294 [07:52<00:00,  1.61s/it]\n"
          ]
        },
        {
          "name": "stdout",
          "output_type": "stream",
          "text": [
            "Epoch 45/70 FINISHED => Train Loss: 0.7813, Val Loss: 0.9368, Train Acc: 70.29%, Val Acc: 64.68%\n"
          ]
        },
        {
          "name": "stderr",
          "output_type": "stream",
          "text": [
            "Epoch 46/70 - Training: 100%|██████████| 294/294 [07:48<00:00,  1.59s/it]\n"
          ]
        },
        {
          "name": "stdout",
          "output_type": "stream",
          "text": [
            "Epoch 46/70 FINISHED => Train Loss: 0.7907, Val Loss: 0.9351, Train Acc: 69.72%, Val Acc: 65.19%\n"
          ]
        },
        {
          "name": "stderr",
          "output_type": "stream",
          "text": [
            "Epoch 47/70 - Training: 100%|██████████| 294/294 [08:05<00:00,  1.65s/it]\n"
          ]
        },
        {
          "name": "stdout",
          "output_type": "stream",
          "text": [
            "Epoch 47/70 FINISHED => Train Loss: 0.7766, Val Loss: 0.9610, Train Acc: 70.74%, Val Acc: 63.57%\n"
          ]
        },
        {
          "name": "stderr",
          "output_type": "stream",
          "text": [
            "Epoch 48/70 - Training: 100%|██████████| 294/294 [07:58<00:00,  1.63s/it]\n"
          ]
        },
        {
          "name": "stdout",
          "output_type": "stream",
          "text": [
            "Epoch 48/70 FINISHED => Train Loss: 0.7764, Val Loss: 0.9444, Train Acc: 70.12%, Val Acc: 64.43%\n"
          ]
        },
        {
          "name": "stderr",
          "output_type": "stream",
          "text": [
            "Epoch 49/70 - Training: 100%|██████████| 294/294 [08:15<00:00,  1.69s/it]\n"
          ]
        },
        {
          "name": "stdout",
          "output_type": "stream",
          "text": [
            "Epoch 49/70 FINISHED => Train Loss: 0.7853, Val Loss: 0.9330, Train Acc: 70.28%, Val Acc: 65.11%\n"
          ]
        },
        {
          "name": "stderr",
          "output_type": "stream",
          "text": [
            "Epoch 50/70 - Training: 100%|██████████| 294/294 [08:16<00:00,  1.69s/it]\n"
          ]
        },
        {
          "name": "stdout",
          "output_type": "stream",
          "text": [
            "Epoch 50/70 FINISHED => Train Loss: 0.7841, Val Loss: 0.9337, Train Acc: 69.93%, Val Acc: 65.32%\n"
          ]
        },
        {
          "name": "stderr",
          "output_type": "stream",
          "text": [
            "Epoch 51/70 - Training: 100%|██████████| 294/294 [08:09<00:00,  1.66s/it]\n"
          ]
        },
        {
          "name": "stdout",
          "output_type": "stream",
          "text": [
            "Epoch 51/70 FINISHED => Train Loss: 0.7749, Val Loss: 0.9450, Train Acc: 70.95%, Val Acc: 63.96%\n"
          ]
        },
        {
          "name": "stderr",
          "output_type": "stream",
          "text": [
            "Epoch 52/70 - Training: 100%|██████████| 294/294 [08:02<00:00,  1.64s/it]\n"
          ]
        },
        {
          "name": "stdout",
          "output_type": "stream",
          "text": [
            "Epoch 52/70 FINISHED => Train Loss: 0.7693, Val Loss: 0.9479, Train Acc: 70.86%, Val Acc: 63.70%\n"
          ]
        },
        {
          "name": "stderr",
          "output_type": "stream",
          "text": [
            "Epoch 53/70 - Training: 100%|██████████| 294/294 [08:05<00:00,  1.65s/it]\n"
          ]
        },
        {
          "name": "stdout",
          "output_type": "stream",
          "text": [
            "Epoch 53/70 FINISHED => Train Loss: 0.7806, Val Loss: 0.9366, Train Acc: 69.85%, Val Acc: 64.55%\n"
          ]
        },
        {
          "name": "stderr",
          "output_type": "stream",
          "text": [
            "Epoch 54/70 - Training: 100%|██████████| 294/294 [08:06<00:00,  1.66s/it]\n"
          ]
        },
        {
          "name": "stdout",
          "output_type": "stream",
          "text": [
            "Epoch 54/70 FINISHED => Train Loss: 0.7749, Val Loss: 0.9448, Train Acc: 70.99%, Val Acc: 64.34%\n"
          ]
        },
        {
          "name": "stderr",
          "output_type": "stream",
          "text": [
            "Epoch 55/70 - Training: 100%|██████████| 294/294 [08:15<00:00,  1.68s/it]\n"
          ]
        },
        {
          "name": "stdout",
          "output_type": "stream",
          "text": [
            "Epoch 55/70 FINISHED => Train Loss: 0.7793, Val Loss: 0.9447, Train Acc: 70.09%, Val Acc: 63.79%\n"
          ]
        },
        {
          "name": "stderr",
          "output_type": "stream",
          "text": [
            "Epoch 56/70 - Training: 100%|██████████| 294/294 [08:04<00:00,  1.65s/it]\n"
          ]
        },
        {
          "name": "stdout",
          "output_type": "stream",
          "text": [
            "Epoch 56/70 FINISHED => Train Loss: 0.7781, Val Loss: 0.9448, Train Acc: 71.00%, Val Acc: 65.02%\n"
          ]
        },
        {
          "name": "stderr",
          "output_type": "stream",
          "text": [
            "Epoch 57/70 - Training: 100%|██████████| 294/294 [08:08<00:00,  1.66s/it]\n"
          ]
        },
        {
          "name": "stdout",
          "output_type": "stream",
          "text": [
            "Epoch 57/70 FINISHED => Train Loss: 0.7762, Val Loss: 0.9451, Train Acc: 70.14%, Val Acc: 64.38%\n"
          ]
        },
        {
          "name": "stderr",
          "output_type": "stream",
          "text": [
            "Epoch 58/70 - Training: 100%|██████████| 294/294 [08:03<00:00,  1.64s/it]\n"
          ]
        },
        {
          "name": "stdout",
          "output_type": "stream",
          "text": [
            "Epoch 58/70 FINISHED => Train Loss: 0.7671, Val Loss: 0.9529, Train Acc: 71.17%, Val Acc: 64.09%\n"
          ]
        },
        {
          "name": "stderr",
          "output_type": "stream",
          "text": [
            "Epoch 59/70 - Training: 100%|██████████| 294/294 [07:57<00:00,  1.62s/it]\n"
          ]
        },
        {
          "name": "stdout",
          "output_type": "stream",
          "text": [
            "Epoch 59/70 FINISHED => Train Loss: 0.7745, Val Loss: 0.9403, Train Acc: 71.10%, Val Acc: 64.34%\n"
          ]
        },
        {
          "name": "stderr",
          "output_type": "stream",
          "text": [
            "Epoch 60/70 - Training: 100%|██████████| 294/294 [08:22<00:00,  1.71s/it]\n"
          ]
        },
        {
          "name": "stdout",
          "output_type": "stream",
          "text": [
            "Epoch 60/70 FINISHED => Train Loss: 0.7620, Val Loss: 0.9511, Train Acc: 71.30%, Val Acc: 64.55%\n"
          ]
        },
        {
          "name": "stderr",
          "output_type": "stream",
          "text": [
            "Epoch 61/70 - Training: 100%|██████████| 294/294 [08:00<00:00,  1.63s/it]\n"
          ]
        },
        {
          "name": "stdout",
          "output_type": "stream",
          "text": [
            "Epoch 61/70 FINISHED => Train Loss: 0.7757, Val Loss: 0.9455, Train Acc: 70.62%, Val Acc: 64.17%\n"
          ]
        },
        {
          "name": "stderr",
          "output_type": "stream",
          "text": [
            "Epoch 62/70 - Training: 100%|██████████| 294/294 [07:45<00:00,  1.58s/it]\n"
          ]
        },
        {
          "name": "stdout",
          "output_type": "stream",
          "text": [
            "Epoch 62/70 FINISHED => Train Loss: 0.7771, Val Loss: 0.9474, Train Acc: 70.65%, Val Acc: 64.34%\n"
          ]
        },
        {
          "name": "stderr",
          "output_type": "stream",
          "text": [
            "Epoch 63/70 - Training: 100%|██████████| 294/294 [08:18<00:00,  1.69s/it]\n"
          ]
        },
        {
          "name": "stdout",
          "output_type": "stream",
          "text": [
            "Epoch 63/70 FINISHED => Train Loss: 0.7751, Val Loss: 0.9604, Train Acc: 70.27%, Val Acc: 64.04%\n"
          ]
        },
        {
          "name": "stderr",
          "output_type": "stream",
          "text": [
            "Epoch 64/70 - Training: 100%|██████████| 294/294 [08:30<00:00,  1.74s/it]\n"
          ]
        },
        {
          "name": "stdout",
          "output_type": "stream",
          "text": [
            "Epoch 64/70 FINISHED => Train Loss: 0.7654, Val Loss: 0.9549, Train Acc: 71.57%, Val Acc: 64.17%\n"
          ]
        },
        {
          "name": "stderr",
          "output_type": "stream",
          "text": [
            "Epoch 65/70 - Training: 100%|██████████| 294/294 [08:00<00:00,  1.63s/it]\n"
          ]
        },
        {
          "name": "stdout",
          "output_type": "stream",
          "text": [
            "Epoch 65/70 FINISHED => Train Loss: 0.7677, Val Loss: 0.9379, Train Acc: 70.93%, Val Acc: 64.94%\n"
          ]
        },
        {
          "name": "stderr",
          "output_type": "stream",
          "text": [
            "Epoch 66/70 - Training: 100%|██████████| 294/294 [07:51<00:00,  1.60s/it]\n"
          ]
        },
        {
          "name": "stdout",
          "output_type": "stream",
          "text": [
            "Epoch 66/70 FINISHED => Train Loss: 0.7675, Val Loss: 0.9627, Train Acc: 71.21%, Val Acc: 63.49%\n"
          ]
        },
        {
          "name": "stderr",
          "output_type": "stream",
          "text": [
            "Epoch 67/70 - Training: 100%|██████████| 294/294 [07:53<00:00,  1.61s/it]\n"
          ]
        },
        {
          "name": "stdout",
          "output_type": "stream",
          "text": [
            "Epoch 67/70 FINISHED => Train Loss: 0.7678, Val Loss: 0.9559, Train Acc: 70.69%, Val Acc: 64.00%\n"
          ]
        },
        {
          "name": "stderr",
          "output_type": "stream",
          "text": [
            "Epoch 68/70 - Training: 100%|██████████| 294/294 [08:08<00:00,  1.66s/it]\n"
          ]
        },
        {
          "name": "stdout",
          "output_type": "stream",
          "text": [
            "Epoch 68/70 FINISHED => Train Loss: 0.7646, Val Loss: 0.9479, Train Acc: 71.15%, Val Acc: 64.72%\n"
          ]
        },
        {
          "name": "stderr",
          "output_type": "stream",
          "text": [
            "Epoch 69/70 - Training: 100%|██████████| 294/294 [08:50<00:00,  1.80s/it]\n"
          ]
        },
        {
          "name": "stdout",
          "output_type": "stream",
          "text": [
            "Epoch 69/70 FINISHED => Train Loss: 0.7697, Val Loss: 0.9583, Train Acc: 71.08%, Val Acc: 63.66%\n"
          ]
        },
        {
          "name": "stderr",
          "output_type": "stream",
          "text": [
            "Epoch 70/70 - Training: 100%|██████████| 294/294 [08:52<00:00,  1.81s/it]\n"
          ]
        },
        {
          "name": "stdout",
          "output_type": "stream",
          "text": [
            "Epoch 70/70 FINISHED => Train Loss: 0.7688, Val Loss: 0.9511, Train Acc: 70.82%, Val Acc: 64.17%\n"
          ]
        },
        {
          "ename": "ModuleNotFoundError",
          "evalue": "No module named 'openpyxl'",
          "output_type": "error",
          "traceback": [
            "\u001b[1;31m---------------------------------------------------------------------------\u001b[0m",
            "\u001b[1;31mModuleNotFoundError\u001b[0m                       Traceback (most recent call last)",
            "Cell \u001b[1;32mIn[19], line 114\u001b[0m\n\u001b[0;32m    112\u001b[0m \u001b[38;5;66;03m# Guardado de estadisticas de ejecucion\u001b[39;00m\n\u001b[0;32m    113\u001b[0m df_statistics \u001b[38;5;241m=\u001b[39m pd\u001b[38;5;241m.\u001b[39mDataFrame\u001b[38;5;241m.\u001b[39mfrom_dict(executionStatistics_list)\n\u001b[1;32m--> 114\u001b[0m \u001b[43mdf_statistics\u001b[49m\u001b[38;5;241;43m.\u001b[39;49m\u001b[43mto_excel\u001b[49m\u001b[43m(\u001b[49m\u001b[43mos\u001b[49m\u001b[38;5;241;43m.\u001b[39;49m\u001b[43mpath\u001b[49m\u001b[38;5;241;43m.\u001b[39;49m\u001b[43mjoin\u001b[49m\u001b[43m(\u001b[49m\u001b[43msavedResultsRoute\u001b[49m\u001b[43m,\u001b[49m\u001b[43m \u001b[49m\u001b[38;5;124;43mf\u001b[39;49m\u001b[38;5;124;43m\"\u001b[39;49m\u001b[38;5;132;43;01m{\u001b[39;49;00m\u001b[43mexecutionModelDateTime\u001b[49m\u001b[38;5;132;43;01m}\u001b[39;49;00m\u001b[38;5;124;43m_results.xlsx\u001b[39;49m\u001b[38;5;124;43m\"\u001b[39;49m\u001b[43m)\u001b[49m\u001b[43m,\u001b[49m\u001b[43m \u001b[49m\u001b[43mindex\u001b[49m\u001b[38;5;241;43m=\u001b[39;49m\u001b[38;5;28;43;01mFalse\u001b[39;49;00m\u001b[43m)\u001b[49m\n\u001b[0;32m    115\u001b[0m \u001b[38;5;66;03m# Guardado del modelo completo\u001b[39;00m\n\u001b[0;32m    116\u001b[0m torch\u001b[38;5;241m.\u001b[39msave(model, os\u001b[38;5;241m.\u001b[39mpath\u001b[38;5;241m.\u001b[39mjoin(savedModelsRoute, \u001b[38;5;124mf\u001b[39m\u001b[38;5;124m\"\u001b[39m\u001b[38;5;132;01m{\u001b[39;00mexecutionModelDateTime\u001b[38;5;132;01m}\u001b[39;00m\u001b[38;5;124m_modelo_entrenado_resnet18_softAtt_ka_completo.pth\u001b[39m\u001b[38;5;124m\"\u001b[39m))\n",
            "File \u001b[1;32md:\\Jesus\\Ciclo 2025-0\\DeepLearning\\deepLearningSkinDisVenv\\lib\\site-packages\\pandas\\util\\_decorators.py:333\u001b[0m, in \u001b[0;36mdeprecate_nonkeyword_arguments.<locals>.decorate.<locals>.wrapper\u001b[1;34m(*args, **kwargs)\u001b[0m\n\u001b[0;32m    327\u001b[0m \u001b[38;5;28;01mif\u001b[39;00m \u001b[38;5;28mlen\u001b[39m(args) \u001b[38;5;241m>\u001b[39m num_allow_args:\n\u001b[0;32m    328\u001b[0m     warnings\u001b[38;5;241m.\u001b[39mwarn(\n\u001b[0;32m    329\u001b[0m         msg\u001b[38;5;241m.\u001b[39mformat(arguments\u001b[38;5;241m=\u001b[39m_format_argument_list(allow_args)),\n\u001b[0;32m    330\u001b[0m         \u001b[38;5;167;01mFutureWarning\u001b[39;00m,\n\u001b[0;32m    331\u001b[0m         stacklevel\u001b[38;5;241m=\u001b[39mfind_stack_level(),\n\u001b[0;32m    332\u001b[0m     )\n\u001b[1;32m--> 333\u001b[0m \u001b[38;5;28;01mreturn\u001b[39;00m func(\u001b[38;5;241m*\u001b[39margs, \u001b[38;5;241m*\u001b[39m\u001b[38;5;241m*\u001b[39mkwargs)\n",
            "File \u001b[1;32md:\\Jesus\\Ciclo 2025-0\\DeepLearning\\deepLearningSkinDisVenv\\lib\\site-packages\\pandas\\core\\generic.py:2417\u001b[0m, in \u001b[0;36mNDFrame.to_excel\u001b[1;34m(self, excel_writer, sheet_name, na_rep, float_format, columns, header, index, index_label, startrow, startcol, engine, merge_cells, inf_rep, freeze_panes, storage_options, engine_kwargs)\u001b[0m\n\u001b[0;32m   2404\u001b[0m \u001b[38;5;28;01mfrom\u001b[39;00m\u001b[38;5;250m \u001b[39m\u001b[38;5;21;01mpandas\u001b[39;00m\u001b[38;5;21;01m.\u001b[39;00m\u001b[38;5;21;01mio\u001b[39;00m\u001b[38;5;21;01m.\u001b[39;00m\u001b[38;5;21;01mformats\u001b[39;00m\u001b[38;5;21;01m.\u001b[39;00m\u001b[38;5;21;01mexcel\u001b[39;00m\u001b[38;5;250m \u001b[39m\u001b[38;5;28;01mimport\u001b[39;00m ExcelFormatter\n\u001b[0;32m   2406\u001b[0m formatter \u001b[38;5;241m=\u001b[39m ExcelFormatter(\n\u001b[0;32m   2407\u001b[0m     df,\n\u001b[0;32m   2408\u001b[0m     na_rep\u001b[38;5;241m=\u001b[39mna_rep,\n\u001b[1;32m   (...)\u001b[0m\n\u001b[0;32m   2415\u001b[0m     inf_rep\u001b[38;5;241m=\u001b[39minf_rep,\n\u001b[0;32m   2416\u001b[0m )\n\u001b[1;32m-> 2417\u001b[0m \u001b[43mformatter\u001b[49m\u001b[38;5;241;43m.\u001b[39;49m\u001b[43mwrite\u001b[49m\u001b[43m(\u001b[49m\n\u001b[0;32m   2418\u001b[0m \u001b[43m    \u001b[49m\u001b[43mexcel_writer\u001b[49m\u001b[43m,\u001b[49m\n\u001b[0;32m   2419\u001b[0m \u001b[43m    \u001b[49m\u001b[43msheet_name\u001b[49m\u001b[38;5;241;43m=\u001b[39;49m\u001b[43msheet_name\u001b[49m\u001b[43m,\u001b[49m\n\u001b[0;32m   2420\u001b[0m \u001b[43m    \u001b[49m\u001b[43mstartrow\u001b[49m\u001b[38;5;241;43m=\u001b[39;49m\u001b[43mstartrow\u001b[49m\u001b[43m,\u001b[49m\n\u001b[0;32m   2421\u001b[0m \u001b[43m    \u001b[49m\u001b[43mstartcol\u001b[49m\u001b[38;5;241;43m=\u001b[39;49m\u001b[43mstartcol\u001b[49m\u001b[43m,\u001b[49m\n\u001b[0;32m   2422\u001b[0m \u001b[43m    \u001b[49m\u001b[43mfreeze_panes\u001b[49m\u001b[38;5;241;43m=\u001b[39;49m\u001b[43mfreeze_panes\u001b[49m\u001b[43m,\u001b[49m\n\u001b[0;32m   2423\u001b[0m \u001b[43m    \u001b[49m\u001b[43mengine\u001b[49m\u001b[38;5;241;43m=\u001b[39;49m\u001b[43mengine\u001b[49m\u001b[43m,\u001b[49m\n\u001b[0;32m   2424\u001b[0m \u001b[43m    \u001b[49m\u001b[43mstorage_options\u001b[49m\u001b[38;5;241;43m=\u001b[39;49m\u001b[43mstorage_options\u001b[49m\u001b[43m,\u001b[49m\n\u001b[0;32m   2425\u001b[0m \u001b[43m    \u001b[49m\u001b[43mengine_kwargs\u001b[49m\u001b[38;5;241;43m=\u001b[39;49m\u001b[43mengine_kwargs\u001b[49m\u001b[43m,\u001b[49m\n\u001b[0;32m   2426\u001b[0m \u001b[43m\u001b[49m\u001b[43m)\u001b[49m\n",
            "File \u001b[1;32md:\\Jesus\\Ciclo 2025-0\\DeepLearning\\deepLearningSkinDisVenv\\lib\\site-packages\\pandas\\io\\formats\\excel.py:943\u001b[0m, in \u001b[0;36mExcelFormatter.write\u001b[1;34m(self, writer, sheet_name, startrow, startcol, freeze_panes, engine, storage_options, engine_kwargs)\u001b[0m\n\u001b[0;32m    941\u001b[0m     need_save \u001b[38;5;241m=\u001b[39m \u001b[38;5;28;01mFalse\u001b[39;00m\n\u001b[0;32m    942\u001b[0m \u001b[38;5;28;01melse\u001b[39;00m:\n\u001b[1;32m--> 943\u001b[0m     writer \u001b[38;5;241m=\u001b[39m \u001b[43mExcelWriter\u001b[49m\u001b[43m(\u001b[49m\n\u001b[0;32m    944\u001b[0m \u001b[43m        \u001b[49m\u001b[43mwriter\u001b[49m\u001b[43m,\u001b[49m\n\u001b[0;32m    945\u001b[0m \u001b[43m        \u001b[49m\u001b[43mengine\u001b[49m\u001b[38;5;241;43m=\u001b[39;49m\u001b[43mengine\u001b[49m\u001b[43m,\u001b[49m\n\u001b[0;32m    946\u001b[0m \u001b[43m        \u001b[49m\u001b[43mstorage_options\u001b[49m\u001b[38;5;241;43m=\u001b[39;49m\u001b[43mstorage_options\u001b[49m\u001b[43m,\u001b[49m\n\u001b[0;32m    947\u001b[0m \u001b[43m        \u001b[49m\u001b[43mengine_kwargs\u001b[49m\u001b[38;5;241;43m=\u001b[39;49m\u001b[43mengine_kwargs\u001b[49m\u001b[43m,\u001b[49m\n\u001b[0;32m    948\u001b[0m \u001b[43m    \u001b[49m\u001b[43m)\u001b[49m\n\u001b[0;32m    949\u001b[0m     need_save \u001b[38;5;241m=\u001b[39m \u001b[38;5;28;01mTrue\u001b[39;00m\n\u001b[0;32m    951\u001b[0m \u001b[38;5;28;01mtry\u001b[39;00m:\n",
            "File \u001b[1;32md:\\Jesus\\Ciclo 2025-0\\DeepLearning\\deepLearningSkinDisVenv\\lib\\site-packages\\pandas\\io\\excel\\_openpyxl.py:57\u001b[0m, in \u001b[0;36mOpenpyxlWriter.__init__\u001b[1;34m(self, path, engine, date_format, datetime_format, mode, storage_options, if_sheet_exists, engine_kwargs, **kwargs)\u001b[0m\n\u001b[0;32m     44\u001b[0m \u001b[38;5;28;01mdef\u001b[39;00m\u001b[38;5;250m \u001b[39m\u001b[38;5;21m__init__\u001b[39m(\n\u001b[0;32m     45\u001b[0m     \u001b[38;5;28mself\u001b[39m,\n\u001b[0;32m     46\u001b[0m     path: FilePath \u001b[38;5;241m|\u001b[39m WriteExcelBuffer \u001b[38;5;241m|\u001b[39m ExcelWriter,\n\u001b[1;32m   (...)\u001b[0m\n\u001b[0;32m     55\u001b[0m ) \u001b[38;5;241m-\u001b[39m\u001b[38;5;241m>\u001b[39m \u001b[38;5;28;01mNone\u001b[39;00m:\n\u001b[0;32m     56\u001b[0m     \u001b[38;5;66;03m# Use the openpyxl module as the Excel writer.\u001b[39;00m\n\u001b[1;32m---> 57\u001b[0m     \u001b[38;5;28;01mfrom\u001b[39;00m\u001b[38;5;250m \u001b[39m\u001b[38;5;21;01mopenpyxl\u001b[39;00m\u001b[38;5;21;01m.\u001b[39;00m\u001b[38;5;21;01mworkbook\u001b[39;00m\u001b[38;5;250m \u001b[39m\u001b[38;5;28;01mimport\u001b[39;00m Workbook\n\u001b[0;32m     59\u001b[0m     engine_kwargs \u001b[38;5;241m=\u001b[39m combine_kwargs(engine_kwargs, kwargs)\n\u001b[0;32m     61\u001b[0m     \u001b[38;5;28msuper\u001b[39m()\u001b[38;5;241m.\u001b[39m\u001b[38;5;21m__init__\u001b[39m(\n\u001b[0;32m     62\u001b[0m         path,\n\u001b[0;32m     63\u001b[0m         mode\u001b[38;5;241m=\u001b[39mmode,\n\u001b[1;32m   (...)\u001b[0m\n\u001b[0;32m     66\u001b[0m         engine_kwargs\u001b[38;5;241m=\u001b[39mengine_kwargs,\n\u001b[0;32m     67\u001b[0m     )\n",
            "\u001b[1;31mModuleNotFoundError\u001b[0m: No module named 'openpyxl'"
          ]
        }
      ],
      "source": [
        "# Inicialización de tensorboard\n",
        "executionModelDateTime = datetime.now().strftime(\"Ejecucion %d-%m-%Y %H-%M\")\n",
        "writer = SummaryWriter(log_dir=os.path.join(logsRoute,executionModelDateTime))\n",
        "\n",
        "# Crear los DataLoader\n",
        "train_dataloader = DataLoader(train_dataset, batch_size=batch_size, shuffle=True, num_workers=0)\n",
        "val_dataloader = DataLoader(val_dataset, batch_size=batch_size, shuffle=False, num_workers=0)\n",
        "\n",
        "# Definición de la cantidad de clases, la función de perdida, el optimizador y el learning rate estático\n",
        "modelAt = ResNet18WithAttention(num_classes=num_classes)\n",
        "criterion = nn.CrossEntropyLoss()\n",
        "optimizer = optim.SGD(modelAt.parameters(), lr=learning_rate, momentum=0.9,weight_decay=1e-3)\n",
        "scheduler = optim.lr_scheduler.ReduceLROnPlateau(optimizer, mode='min', factor=0.5, patience=3)\n",
        "model = modelAt.to(device)\n",
        "executionStatistics_list = []\n",
        "\n",
        "for epoch in range(num_epochs):\n",
        "    model.train()  # Modo entrenamiento\n",
        "    running_loss = 0.0\n",
        "    correct_preds = 0\n",
        "    total_preds = 0\n",
        "\n",
        "    # Entrenamiento\n",
        "    for inputs, labels in tqdm(train_dataloader, desc=f\"Epoch {epoch+1}/{num_epochs} - Training\", leave=True):\n",
        "        inputs, labels = inputs.to(device), labels.to(device)\n",
        "        optimizer.zero_grad()\n",
        "        outputs = model(inputs)\n",
        "        loss = criterion(outputs, labels)\n",
        "        loss.backward()\n",
        "        optimizer.step()\n",
        "\n",
        "        # Estadísticas de la pérdida\n",
        "        running_loss += loss.item()\n",
        "        # Precisión\n",
        "        _, predicted = torch.max(outputs, 1)\n",
        "        correct_preds += (predicted == labels).sum().item()\n",
        "        total_preds += labels.size(0)\n",
        "\n",
        "    #print(f\"Epoch {epoch+1}/{num_epochs}, Loss: {running_loss/len(train_dataloader)}, Accuracy: {100 * correct_preds / total_preds}%\")\n",
        "    train_loss = running_loss / len(train_dataloader)\n",
        "    train_accuracy = 100 * correct_preds / total_preds\n",
        "\n",
        "    # Validación\n",
        "    model.eval()  # Modo evaluación\n",
        "    running_val_loss = 0.0\n",
        "    correct_val = 0\n",
        "    total_val = 0\n",
        "    all_groundtruth = []\n",
        "    all_predictions = []\n",
        "\n",
        "    with torch.no_grad():  # No calcular gradientes durante la validación\n",
        "        for inputs, labels in val_dataloader:\n",
        "            inputs, labels = inputs.to(device), labels.to(device)\n",
        "            outputs = model(inputs)\n",
        "            loss = criterion(outputs, labels)\n",
        "            running_val_loss += loss.item()\n",
        "\n",
        "            _, predicted = torch.max(outputs, 1)\n",
        "            correct_val += (predicted == labels).sum().item()  # Usamos correct_val en lugar de correct_preds\n",
        "            total_val += labels.size(0)  # Usamos total_val en lugar de total_preds\n",
        "\n",
        "            all_groundtruth.extend(labels.cpu().numpy())\n",
        "            all_predictions.extend(predicted.cpu().numpy())\n",
        "\n",
        "    val_loss = running_val_loss/len(val_dataloader)\n",
        "    val_accuracy = 100 * correct_val / total_val\n",
        "\n",
        "    # Ajustar la tasa de aprendizaje si la pérdida de validación no mejora\n",
        "    scheduler.step(val_loss)\n",
        "\n",
        "    # Agregar valores a TensorBoard\n",
        "    writer.add_scalar(\"Loss/Train\", train_loss, epoch)\n",
        "    writer.add_scalar(\"Loss/Validation\", val_loss, epoch)\n",
        "    writer.add_scalar(\"Accuracy/Train\", train_accuracy, epoch)\n",
        "    writer.add_scalar(\"Accuracy/Validation\", val_accuracy, epoch)\n",
        "\n",
        "    # Obtener los nombres de las clases (suponiendo que están en df_filtrados.columns)\n",
        "    labels_names = list(df_filtrado['diagnosis'].unique())\n",
        "    # Registrar el heatmap y la grilla de valores en TensorBoard\n",
        "    log_heatmap(writer, epoch, all_groundtruth, all_predictions, labels_names)\n",
        "    log_values_predicted(writer, epoch, all_groundtruth, all_predictions)\n",
        "\n",
        "    # Carga de hiperparametros y metricas\n",
        "    execution_statistics = {\n",
        "        \"epoch\": epoch,\n",
        "        \"batch_size\": batch_size,\n",
        "        \"learning_rate\": learning_rate,\n",
        "        \"num_epochs\": num_epochs,\n",
        "        \"Train Loss\": train_loss,\n",
        "        \"Validation Loss\": val_loss,\n",
        "        \"Train Accuracy\": train_accuracy,\n",
        "        \"Validation Accuracy\": val_accuracy\n",
        "\n",
        "    }\n",
        "\n",
        "    executionStatistics_list.append(execution_statistics)\n",
        "\n",
        "    # Gráfica de loss y accuracy por cada epoca\n",
        "    writer.add_scalars(\"Loss\", {\"Train\": train_loss, \"Validation\": val_loss}, epoch)\n",
        "    writer.add_scalars(\"Accuracy\", {\"Train\": train_accuracy, \"Validation\": val_accuracy}, epoch)\n",
        "\n",
        "\n",
        "    print(f\"Epoch {epoch+1}/{num_epochs} FINISHED => \"\n",
        "        f\"Train Loss: {train_loss:.4f}, Val Loss: {val_loss:.4f}, \"\n",
        "        f\"Train Acc: {train_accuracy:.2f}%, Val Acc: {val_accuracy:.2f}%\")\n",
        "\n",
        "\n",
        "\n",
        "writer.flush()\n",
        "writer.close()\n",
        "\n",
        "# Guardado de estadisticas de ejecucion\n",
        "df_statistics = pd.DataFrame.from_dict(executionStatistics_list)\n",
        "df_statistics.to_excel(os.path.join(savedResultsRoute, f\"{executionModelDateTime}_results.xlsx\"), index=False)\n",
        "# Guardado del modelo completo\n",
        "torch.save(model, os.path.join(savedModelsRoute, f\"{executionModelDateTime}_modelo_entrenado_resnet18_softAtt_ka_completo.pth\"))\n",
        "# Guardado de los pesos del modelo\n",
        "torch.save(model.state_dict(), os.path.join(savedParametersRoute, f\"{executionModelDateTime}_modelo_entrenado_resnet18_softAtt_ka_pesos.pth\"))\n"
      ]
    },
    {
      "cell_type": "markdown",
      "metadata": {
        "id": "smNM3AuDo4fK"
      },
      "source": [
        "## Visualización de arquitectura del modelo"
      ]
    },
    {
      "cell_type": "code",
      "execution_count": null,
      "metadata": {
        "id": "Hownoh2Mo4fK",
        "outputId": "c824a8fa-7eaf-4bf8-defe-2bd7e1adb368"
      },
      "outputs": [
        {
          "name": "stdout",
          "output_type": "stream",
          "text": [
            "----------------------------------------------------------------\n",
            "        Layer (type)               Output Shape         Param #\n",
            "================================================================\n",
            "            Conv2d-1           [-1, 64, 32, 32]           9,408\n",
            "       BatchNorm2d-2           [-1, 64, 32, 32]             128\n",
            "              ReLU-3           [-1, 64, 32, 32]               0\n",
            "         MaxPool2d-4           [-1, 64, 16, 16]               0\n",
            "            Conv2d-5           [-1, 64, 16, 16]          36,864\n",
            "       BatchNorm2d-6           [-1, 64, 16, 16]             128\n",
            "              ReLU-7           [-1, 64, 16, 16]               0\n",
            "            Conv2d-8           [-1, 64, 16, 16]          36,864\n",
            "       BatchNorm2d-9           [-1, 64, 16, 16]             128\n",
            "             ReLU-10           [-1, 64, 16, 16]               0\n",
            "       BasicBlock-11           [-1, 64, 16, 16]               0\n",
            "           Conv2d-12           [-1, 64, 16, 16]          36,864\n",
            "      BatchNorm2d-13           [-1, 64, 16, 16]             128\n",
            "             ReLU-14           [-1, 64, 16, 16]               0\n",
            "           Conv2d-15           [-1, 64, 16, 16]          36,864\n",
            "      BatchNorm2d-16           [-1, 64, 16, 16]             128\n",
            "             ReLU-17           [-1, 64, 16, 16]               0\n",
            "       BasicBlock-18           [-1, 64, 16, 16]               0\n",
            "           Conv2d-19            [-1, 128, 8, 8]          73,728\n",
            "      BatchNorm2d-20            [-1, 128, 8, 8]             256\n",
            "             ReLU-21            [-1, 128, 8, 8]               0\n",
            "           Conv2d-22            [-1, 128, 8, 8]         147,456\n",
            "      BatchNorm2d-23            [-1, 128, 8, 8]             256\n",
            "           Conv2d-24            [-1, 128, 8, 8]           8,192\n",
            "      BatchNorm2d-25            [-1, 128, 8, 8]             256\n",
            "             ReLU-26            [-1, 128, 8, 8]               0\n",
            "       BasicBlock-27            [-1, 128, 8, 8]               0\n",
            "           Conv2d-28            [-1, 128, 8, 8]         147,456\n",
            "      BatchNorm2d-29            [-1, 128, 8, 8]             256\n",
            "             ReLU-30            [-1, 128, 8, 8]               0\n",
            "           Conv2d-31            [-1, 128, 8, 8]         147,456\n",
            "      BatchNorm2d-32            [-1, 128, 8, 8]             256\n",
            "             ReLU-33            [-1, 128, 8, 8]               0\n",
            "       BasicBlock-34            [-1, 128, 8, 8]               0\n",
            "           Conv2d-35            [-1, 256, 4, 4]         294,912\n",
            "      BatchNorm2d-36            [-1, 256, 4, 4]             512\n",
            "             ReLU-37            [-1, 256, 4, 4]               0\n",
            "           Conv2d-38            [-1, 256, 4, 4]         589,824\n",
            "      BatchNorm2d-39            [-1, 256, 4, 4]             512\n",
            "           Conv2d-40            [-1, 256, 4, 4]          32,768\n",
            "      BatchNorm2d-41            [-1, 256, 4, 4]             512\n",
            "             ReLU-42            [-1, 256, 4, 4]               0\n",
            "       BasicBlock-43            [-1, 256, 4, 4]               0\n",
            "           Conv2d-44            [-1, 256, 4, 4]         589,824\n",
            "      BatchNorm2d-45            [-1, 256, 4, 4]             512\n",
            "             ReLU-46            [-1, 256, 4, 4]               0\n",
            "           Conv2d-47            [-1, 256, 4, 4]         589,824\n",
            "      BatchNorm2d-48            [-1, 256, 4, 4]             512\n",
            "             ReLU-49            [-1, 256, 4, 4]               0\n",
            "       BasicBlock-50            [-1, 256, 4, 4]               0\n",
            "           Conv2d-51            [-1, 512, 2, 2]       1,179,648\n",
            "      BatchNorm2d-52            [-1, 512, 2, 2]           1,024\n",
            "             ReLU-53            [-1, 512, 2, 2]               0\n",
            "           Conv2d-54            [-1, 512, 2, 2]       2,359,296\n",
            "      BatchNorm2d-55            [-1, 512, 2, 2]           1,024\n",
            "           Conv2d-56            [-1, 512, 2, 2]         131,072\n",
            "      BatchNorm2d-57            [-1, 512, 2, 2]           1,024\n",
            "             ReLU-58            [-1, 512, 2, 2]               0\n",
            "       BasicBlock-59            [-1, 512, 2, 2]               0\n",
            "           Conv2d-60            [-1, 512, 2, 2]       2,359,296\n",
            "      BatchNorm2d-61            [-1, 512, 2, 2]           1,024\n",
            "             ReLU-62            [-1, 512, 2, 2]               0\n",
            "           Conv2d-63            [-1, 512, 2, 2]       2,359,296\n",
            "      BatchNorm2d-64            [-1, 512, 2, 2]           1,024\n",
            "             ReLU-65            [-1, 512, 2, 2]               0\n",
            "       BasicBlock-66            [-1, 512, 2, 2]               0\n",
            "AdaptiveAvgPool2d-67            [-1, 512, 1, 1]               0\n",
            "           Linear-68                 [-1, 1000]         513,000\n",
            "================================================================\n",
            "Total params: 11,689,512\n",
            "Trainable params: 11,689,512\n",
            "Non-trainable params: 0\n",
            "----------------------------------------------------------------\n",
            "Input size (MB): 0.05\n",
            "Forward/backward pass size (MB): 5.14\n",
            "Params size (MB): 44.59\n",
            "Estimated Total Size (MB): 49.78\n",
            "----------------------------------------------------------------\n"
          ]
        }
      ],
      "source": [
        "summary(modelAt, (3, 64, 64))"
      ]
    },
    {
      "cell_type": "markdown",
      "metadata": {
        "id": "c425Oezco4fK"
      },
      "source": [
        "# Guardado de los resultados del modelo"
      ]
    },
    {
      "cell_type": "code",
      "execution_count": null,
      "metadata": {
        "id": "mES-E3gjo4fK"
      },
      "outputs": [],
      "source": [
        "df_statistics = pd.DataFrame.from_dict(executionStatistics_list)\n",
        "df_statistics.to_csv(os.path.join(savedResultsRoute, f\"{executionModelDateTime}_results.xlsx\"), index=False)"
      ]
    },
    {
      "cell_type": "markdown",
      "metadata": {
        "id": "WjQxLHTBo4fK"
      },
      "source": [
        "# Agregado de Hiperparámetros"
      ]
    },
    {
      "cell_type": "markdown",
      "metadata": {
        "id": "K1sawfc5o4fK"
      },
      "source": [
        "# Guardado del modelo"
      ]
    },
    {
      "cell_type": "markdown",
      "metadata": {
        "id": "nFR4-d41o4fK"
      },
      "source": [
        "**Guardado del modelo completo**"
      ]
    },
    {
      "cell_type": "code",
      "execution_count": null,
      "metadata": {
        "id": "F8oSSsxF3tTB"
      },
      "outputs": [],
      "source": [
        "torch.save(model, os.path.join(savedModelsRoute, f\"{executionModelDateTime}_modelo_entrenado_resnet18_softAtt_ka_completo.pth\"))"
      ]
    },
    {
      "cell_type": "markdown",
      "metadata": {
        "id": "KX4PWo2xo4fK"
      },
      "source": [
        "**Guardado de los pesos del modelo**"
      ]
    },
    {
      "cell_type": "code",
      "execution_count": null,
      "metadata": {
        "id": "-v4kQSBDo4fK"
      },
      "outputs": [],
      "source": [
        "torch.save(model.state_dict(), os.path.join(savedModelsRoute, f\"{executionModelDateTime}_modelo_entrenado_resnet18_softAtt_ka_pesos.pth\"))"
      ]
    },
    {
      "cell_type": "code",
      "execution_count": null,
      "metadata": {
        "id": "R_WF3-g-o4fL",
        "outputId": "59e9a4cc-20ee-4f65-8d41-8cbec8fd2fb5"
      },
      "outputs": [
        {
          "name": "stdout",
          "output_type": "stream",
          "text": [
            "{'MEL': 0, 'NV': 1, 'BCC': 2, 'BKL': 3, 'AK': 4}\n"
          ]
        }
      ],
      "source": [
        "# Mapeo de clases\n",
        "print(train_dataset.class_to_idx)"
      ]
    },
    {
      "cell_type": "markdown",
      "metadata": {
        "id": "iLkWtmiIo4fL"
      },
      "source": [
        "# Prueba del modelo"
      ]
    },
    {
      "cell_type": "markdown",
      "metadata": {
        "id": "-AouAJyFo4fL"
      },
      "source": [
        "**Definición de gráficas a emplear**"
      ]
    },
    {
      "cell_type": "code",
      "execution_count": null,
      "metadata": {
        "id": "JkBxZorro4fL"
      },
      "outputs": [],
      "source": [
        "def show_heatmap(ground_truth, predictions, class_to_idx):\n",
        "    # Generar la lista de etiquetas ordenadas según su índice\n",
        "    labels = [class_name for class_name, _ in sorted(class_to_idx.items(), key=lambda x: x[1])]\n",
        "\n",
        "    # Calcula la matriz de confusión usando el orden de índices\n",
        "    cm = confusion_matrix(ground_truth, predictions, labels=range(len(labels)))\n",
        "\n",
        "    # Crear la figura\n",
        "    fig, ax = plt.subplots(figsize=(8, 6))\n",
        "    sns.heatmap(cm, annot=True, fmt=\"d\", cmap=\"Blues\",\n",
        "                xticklabels=labels, yticklabels=labels, ax=ax)\n",
        "    ax.set_xlabel(\"Predicción\")\n",
        "    ax.set_ylabel(\"Groundtruth\")\n",
        "    ax.set_title(\"Matriz de Confusión por cada categoría\")\n",
        "\n",
        "    plt.close(fig)\n",
        "    return fig\n",
        "\n",
        "# Función para registrar la grilla 2x2 de TP, FP, TN, FN (para clasificación binaria)\n",
        "def show_values_predicted(ground_truth, predictions):\n",
        "    cm = confusion_matrix(ground_truth, predictions, labels=[True, False])\n",
        "    cm = cm.T\n",
        "\n",
        "    TP = cm[0, 0]\n",
        "    FP = cm[0, 1]\n",
        "    FN = cm[1, 0]\n",
        "    TN = cm[1, 1]\n",
        "\n",
        "    # Creamos la matriz personalizada en el orden: TP, FP, FN, TN\n",
        "    custom_cm = np.array([[TP, FP],\n",
        "                            [FN, TN]])\n",
        "\n",
        "    # Creamos las anotaciones para cada celda\n",
        "    annot = np.array([[f\"TP\\n{TP}\", f\"FP\\n{FP}\"],\n",
        "                        [f\"FN\\n{FN}\", f\"TN\\n{TN}\"]])\n",
        "\n",
        "    # Creamos la figura y el eje sin llamar a plt.show() ni plt.close(), para evitar doble impresión.\n",
        "    fig, ax = plt.subplots(figsize=(6, 5))\n",
        "\n",
        "    # Configuramos el heatmap\n",
        "    sns.heatmap(custom_cm, annot=annot, fmt=\"\", cmap=\"Blues\",\n",
        "                xticklabels=[\"True\", \"False\"],   # Ground Truth\n",
        "                yticklabels=[\"True\", \"False\"],   # Predicciones\n",
        "                cbar=True, ax=ax)\n",
        "\n",
        "    ax.set_xlabel(\"Ground Truth\")\n",
        "    ax.set_ylabel(\"Predicción\")\n",
        "    ax.set_title(\"Matriz de Confusión (TP, FP, FN, TN)\")\n",
        "\n",
        "    return fig\n",
        "\n",
        "def print_classification_report(ground_truth, predictions, class_to_idx):\n",
        "    idx_to_class = {idx: label for label, idx in class_to_idx.items()}\n",
        "    target_names = [idx_to_class[i] for i in sorted(idx_to_class)]\n",
        "    report = classification_report(ground_truth, predictions, target_names=target_names)\n",
        "    print(report)"
      ]
    },
    {
      "cell_type": "markdown",
      "metadata": {
        "id": "gpkeK4Tto4fL"
      },
      "source": [
        "### Prueba del modelo en el conjunto de validación"
      ]
    },
    {
      "cell_type": "markdown",
      "metadata": {
        "id": "Wn1qw567o4fL"
      },
      "source": [
        "Ejecución del modelo"
      ]
    },
    {
      "cell_type": "code",
      "execution_count": null,
      "metadata": {
        "id": "GZnUBPjso4fL"
      },
      "outputs": [],
      "source": [
        "model.eval()\n",
        "\n",
        "predictions = []\n",
        "ground_truth = []\n",
        "with torch.no_grad():\n",
        "    for image, label in val_dataset:\n",
        "        image = image.to(device)\n",
        "        output = model(image.unsqueeze(0))\n",
        "        probabilities = torch.nn.functional.softmax(output, dim=1)  # Usamos dim=1 porque tenemos un batch\n",
        "        _, predicted_class = torch.max(probabilities, dim=1)\n",
        "        predicted_class = predicted_class.item()\n",
        "        predictions.append(predicted_class)\n",
        "        ground_truth.append(label)"
      ]
    },
    {
      "cell_type": "markdown",
      "metadata": {
        "id": "y1HCPUV1o4fL"
      },
      "source": [
        "Gráficas de métricas de evaluación"
      ]
    },
    {
      "cell_type": "markdown",
      "metadata": {
        "id": "wzIC07IYo4fL"
      },
      "source": [
        "Matriz de confusión por cada categoría predicha"
      ]
    },
    {
      "cell_type": "code",
      "execution_count": null,
      "metadata": {
        "id": "62boB3CMo4fL",
        "outputId": "275fc633-e42e-4858-e1fe-111e960723a8"
      },
      "outputs": [
        {
          "data": {
            "image/png": "[encoded data removed]",
            "text/plain": [
              "<Figure size 800x600 with 2 Axes>"
            ]
          },
          "execution_count": 26,
          "metadata": {},
          "output_type": "execute_result"
        }
      ],
      "source": [
        "show_heatmap(ground_truth=ground_truth, predictions=predictions, class_to_idx=class_to_idx)"
      ]
    },
    {
      "cell_type": "markdown",
      "metadata": {
        "id": "QD9Pd_2ao4fM"
      },
      "source": [
        "Matriz de confusion de valores totales predichos"
      ]
    },
    {
      "cell_type": "code",
      "execution_count": null,
      "metadata": {
        "id": "BDywasBEo4fM",
        "outputId": "20d78843-b9bf-44be-d562-3ac3ee238cfe"
      },
      "outputs": [
        {
          "data": {
            "image/png": "[encoded data removed]",
            "text/plain": [
              "<Figure size 600x500 with 2 Axes>"
            ]
          },
          "execution_count": 27,
          "metadata": {},
          "output_type": "execute_result"
        },
        {
          "data": {
            "image/png": "[encoded data removed]",
            "text/plain": [
              "<Figure size 600x500 with 2 Axes>"
            ]
          },
          "metadata": {},
          "output_type": "display_data"
        }
      ],
      "source": [
        "show_values_predicted(ground_truth=ground_truth, predictions=predictions)"
      ]
    },
    {
      "cell_type": "markdown",
      "metadata": {
        "id": "VtaZojvao4fM"
      },
      "source": [
        "Reporte de clasificación"
      ]
    },
    {
      "cell_type": "code",
      "execution_count": null,
      "metadata": {
        "id": "d8bZ7jwKo4fM",
        "outputId": "2eb630b9-5923-4789-e1a4-6085422399f0"
      },
      "outputs": [
        {
          "name": "stdout",
          "output_type": "stream",
          "text": [
            "              precision    recall  f1-score   support\n",
            "\n",
            "         MEL       0.53      0.55      0.54       513\n",
            "          NV       0.77      0.75      0.76       951\n",
            "         BCC       0.65      0.70      0.68       528\n",
            "         BKL       0.31      0.27      0.28       214\n",
            "          AK       0.35      0.34      0.34       144\n",
            "\n",
            "    accuracy                           0.63      2350\n",
            "   macro avg       0.52      0.52      0.52      2350\n",
            "weighted avg       0.62      0.63      0.62      2350\n",
            "\n"
          ]
        }
      ],
      "source": [
        "print_classification_report(ground_truth, predictions, class_to_idx)"
      ]
    },
    {
      "cell_type": "code",
      "execution_count": null,
      "metadata": {
        "id": "4EJ0Uhfeo4fM",
        "outputId": "85a67799-82c3-4752-920b-5519a6eac5fe"
      },
      "outputs": [
        {
          "name": "stdout",
          "output_type": "stream",
          "text": [
            "3\n",
            "Predicción: BKL\n"
          ]
        }
      ],
      "source": [
        "model.eval()  # Ponemos el modelo en modo de evaluación\n",
        "\n",
        "# Paso 3: Cargar la imagen y aplicar las transformaciones\n",
        "image_path = 'ka.jpg'  # Pon aquí la ruta de tu imagen\n",
        "image = Image.open(image_path)  # Abrir la imagen\n",
        "image_tensor = val_transform(image)  # Aplicar las transformaciones\n",
        "\n",
        "image_tensor = image_tensor.unsqueeze(0)  # Convertirlo a un batch de tamaño 1\n",
        "\n",
        "# Paso 5: Mover la imagen al dispositivo (GPU o CPU)\n",
        "device = torch.device('cuda' if torch.cuda.is_available() else 'cpu')\n",
        "image_tensor = image_tensor.to(device)\n",
        "model = model.to(device)\n",
        "\n",
        "# Paso 6: Realizar la predicción\n",
        "with torch.no_grad():  # No necesitamos gradientes para la inferencia\n",
        "    output = model(image_tensor)\n",
        "\n",
        "# Paso 7: Convertir las predicciones en probabilidades con softmax\n",
        "probabilities = torch.nn.functional.softmax(output, dim=1)  # Usamos dim=1 porque tenemos un batch\n",
        "\n",
        "# Paso 8: Obtener la clase con la mayor probabilidad\n",
        "_, predicted_class = torch.max(probabilities, dim=1)\n",
        "\n",
        "# Paso 9: Interpretar la clase predicha\n",
        "# Usamos el mapeo que ya tienes de clases (el 'class_to_idx' que ya definiste en tu dataset)\n",
        "predicted_idx = predicted_class.item()  # Obtenemos el índice de la clase predicha\n",
        "print(predicted_idx)\n",
        "# Aquí usamos el mapeo de clases que creamos antes para convertir el índice a una clase legible\n",
        "predicted_class_name = [key for key, value in train_dataset.class_to_idx.items() if value == predicted_idx][0]\n",
        "\n",
        "# Mostrar la clase predicha\n",
        "print(f\"Predicción: {predicted_class_name}\")"
      ]
    }
  ],
  "metadata": {
    "colab": {
      "provenance": []
    },
    "kernelspec": {
      "display_name": "deepLearningSkinDisVenv",
      "language": "python",
      "name": "python3"
    },
    "language_info": {
      "codemirror_mode": {
        "name": "ipython",
        "version": 3
      },
      "file_extension": ".py",
      "mimetype": "text/x-python",
      "name": "python",
      "nbconvert_exporter": "python",
      "pygments_lexer": "ipython3",
      "version": "3.10.11"
    }
  },
  "nbformat": 4,
  "nbformat_minor": 0
}